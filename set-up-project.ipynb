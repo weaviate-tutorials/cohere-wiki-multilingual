{
 "cells": [
  {
   "cell_type": "code",
   "execution_count": null,
   "id": "226acf52",
   "metadata": {},
   "outputs": [],
   "source": [
    "!pip install weaviate-client"
   ]
  },
  {
   "cell_type": "markdown",
   "id": "8a0e190d",
   "metadata": {},
   "source": [
    "## Load data\n",
    "Download data from [drive](https://drive.google.com/file/d/1W8nBPZA2j1_6AGnw2BAe6ydXLNXzuDq2/view?usp=share_link)"
   ]
  },
  {
   "cell_type": "code",
   "execution_count": 2,
   "id": "5fac1435",
   "metadata": {},
   "outputs": [
    {
     "data": {
      "text/plain": [
       "True"
      ]
     },
     "execution_count": 2,
     "metadata": {},
     "output_type": "execute_result"
    }
   ],
   "source": [
    "import os\n",
    "import weaviate\n",
    "\n",
    "client = weaviate.Client(\n",
    "    url=\"https://cohere-wiki-demo.weaviate.network\",\n",
    "    additional_headers={\n",
    "        \"X-Cohere-Api-Key\": os.getenv(\"COHERE_API_KEY\")\n",
    "    }\n",
    ")\n",
    "client.is_ready()"
   ]
  },
  {
   "cell_type": "code",
   "execution_count": 23,
   "id": "3d25c4f0",
   "metadata": {},
   "outputs": [
    {
     "name": "stdout",
     "output_type": "stream",
     "text": [
      "The schema has been created\n"
     ]
    }
   ],
   "source": [
    "# delete existing schema, (note, this will delete all your weaviate data)\n",
    "client.schema.delete_all()\n",
    "\n",
    "article_schema = {\n",
    "    \"class\": \"Article\",\n",
    "    \"description\": \"Wiki Article\",\n",
    "    \"vectorizer\": \"text2vec-cohere\",\n",
    "    \"moduleConfig\": {\n",
    "        \"text2vec-cohere\": {\n",
    "            \"model\": \"multilingual-22-12\",\n",
    "            \"truncate\": \"RIGHT\"\n",
    "        }\n",
    "    },\n",
    "    \"vectorIndexConfig\": {\n",
    "        \"distance\": \"dot\"\n",
    "    },\n",
    "    \"properties\": [\n",
    "    {\n",
    "        \"name\": \"text\",\n",
    "        \"dataType\": [ \"text\" ],\n",
    "        \"description\": \"Article body\",\n",
    "        \"moduleConfig\": {\n",
    "            \"text2vec-cohere\": {\n",
    "                \"skip\": False,\n",
    "                \"vectorizePropertyName\": False\n",
    "            }\n",
    "        }\n",
    "    },\n",
    "    {\n",
    "        \"name\": \"title\",\n",
    "        \"dataType\": [ \"string\" ],\n",
    "        \"moduleConfig\": { \"text2vec-cohere\": { \"skip\": True } }\n",
    "    },\n",
    "    {\n",
    "        \"name\": \"url\",\n",
    "        \"dataType\": [ \"string\" ],\n",
    "        \"moduleConfig\": { \"text2vec-cohere\": { \"skip\": True } }\n",
    "    },\n",
    "    {\n",
    "        \"name\": \"wiki_id\",\n",
    "        \"dataType\": [ \"int\" ],\n",
    "        \"moduleConfig\": { \"text2vec-cohere\": { \"skip\": True } }\n",
    "    },\n",
    "    {\n",
    "        \"name\": \"views\",\n",
    "        \"dataType\": [ \"number\" ],\n",
    "        \"moduleConfig\": { \"text2vec-cohere\": { \"skip\": True } }\n",
    "    },\n",
    "    ]\n",
    "}\n",
    "\n",
    "# add the schema\n",
    "client.schema.create_class(article_schema)\n",
    "\n",
    "print(\"The schema has been created\")"
   ]
  },
  {
   "cell_type": "code",
   "execution_count": 3,
   "id": "80c96e04",
   "metadata": {},
   "outputs": [],
   "source": [
    "import pandas as pd\n",
    "df = pd.read_parquet('./wiki_simple_100k.parquet')"
   ]
  },
  {
   "cell_type": "code",
   "execution_count": 17,
   "id": "9447328d",
   "metadata": {},
   "outputs": [
    {
     "data": {
      "text/plain": [
       "<weaviate.batch.crud_batch.Batch at 0x7fb088f22a60>"
      ]
     },
     "execution_count": 17,
     "metadata": {},
     "output_type": "execute_result"
    }
   ],
   "source": [
    "### Step 1 - configure Weaviate Batch, which optimizes CRUD operations in bulk\n",
    "# - starting batch size of 100\n",
    "# - dynamically increase/decrease based on performance\n",
    "# - add timeout retries if something goes wrong\n",
    "\n",
    "client.batch.configure(\n",
    "    batch_size=100,\n",
    "    dynamic=True,\n",
    "    timeout_retries=3,\n",
    ")"
   ]
  },
  {
   "cell_type": "code",
   "execution_count": null,
   "id": "724b2c75",
   "metadata": {},
   "outputs": [
    {
     "name": "stdout",
     "output_type": "stream",
     "text": [
      "Import 0 / 20000 \n",
      "Import 100 / 20000 \n",
      "Import 200 / 20000 \n",
      "Import 300 / 20000 \n",
      "Import 400 / 20000 \n",
      "Import 500 / 20000 \n",
      "Import 600 / 20000 \n",
      "Import 700 / 20000 \n",
      "Import 800 / 20000 \n",
      "Import 900 / 20000 \n",
      "Import 1000 / 20000 \n",
      "Import 1100 / 20000 \n",
      "Import 1200 / 20000 \n",
      "Import 1300 / 20000 \n",
      "Import 1400 / 20000 \n",
      "Import 1500 / 20000 \n",
      "Import 1600 / 20000 \n",
      "Import 1700 / 20000 \n",
      "Import 1800 / 20000 \n",
      "Import 1900 / 20000 \n",
      "Import 2000 / 20000 \n",
      "Import 2100 / 20000 \n",
      "Import 2200 / 20000 \n",
      "Import 2300 / 20000 \n",
      "Import 2400 / 20000 \n",
      "Import 2500 / 20000 \n",
      "Import 2600 / 20000 \n",
      "Import 2700 / 20000 \n",
      "Import 2800 / 20000 \n",
      "Import 2900 / 20000 \n",
      "Import 3000 / 20000 \n",
      "Import 3100 / 20000 \n",
      "Import 3200 / 20000 \n",
      "Import 3300 / 20000 \n",
      "Import 3400 / 20000 \n",
      "Import 3500 / 20000 \n",
      "Import 3600 / 20000 \n",
      "Import 3700 / 20000 \n",
      "Import 3800 / 20000 \n",
      "Import 3900 / 20000 \n",
      "Import 4000 / 20000 \n",
      "Import 4100 / 20000 \n",
      "Import 4200 / 20000 \n",
      "Import 4300 / 20000 \n",
      "Import 4400 / 20000 \n",
      "Import 4500 / 20000 \n",
      "Import 4600 / 20000 \n",
      "Import 4700 / 20000 \n",
      "Import 4800 / 20000 \n",
      "Import 4900 / 20000 \n",
      "Import 5000 / 20000 \n",
      "Import 5100 / 20000 \n",
      "Import 5200 / 20000 \n",
      "Import 5300 / 20000 \n",
      "Import 5400 / 20000 \n",
      "Import 5500 / 20000 \n",
      "Import 5600 / 20000 \n",
      "Import 5700 / 20000 \n",
      "Import 5800 / 20000 \n",
      "Import 5900 / 20000 \n",
      "Import 6000 / 20000 \n",
      "Import 6100 / 20000 \n",
      "Import 6200 / 20000 \n",
      "Import 6300 / 20000 \n",
      "Import 6400 / 20000 \n",
      "Import 6500 / 20000 \n",
      "Import 6600 / 20000 \n",
      "Import 6700 / 20000 \n",
      "Import 6800 / 20000 \n",
      "Import 6900 / 20000 \n",
      "Import 7000 / 20000 \n",
      "Import 7100 / 20000 \n",
      "Import 7200 / 20000 \n",
      "Import 7300 / 20000 \n",
      "Import 7400 / 20000 \n"
     ]
    }
   ],
   "source": [
    "small = df[:20000]\n",
    "\n",
    "counter=0\n",
    "\n",
    "with client.batch as batch:\n",
    "    for idx, row in small.iterrows():\n",
    "        \n",
    "        # print update message every 100 objects        \n",
    "        if (counter %100 == 0):\n",
    "            print(f\"Import {counter} / {len(small)} \")\n",
    "\n",
    "        properties = {\n",
    "        \"text\": row[\"text\"],\n",
    "        \"title\": row[\"title\"],\n",
    "        \"url\": row[\"url\"],\n",
    "        \"views\": row[\"views\"],\n",
    "        \"wiki_id\": row[\"wiki_id\"]\n",
    "        }\n",
    "\n",
    "        vector = row[\"emb\"]\n",
    "\n",
    "        batch.add_data_object(properties, \"Article\", None, vector)\n",
    "        counter = counter+1\n",
    "        \n",
    "print(\"Import complete\")"
   ]
  },
  {
   "cell_type": "code",
   "execution_count": 21,
   "id": "fee051d3",
   "metadata": {},
   "outputs": [],
   "source": [
    "def semantic_serch(query):\n",
    "    nearText = {\n",
    "        \"concepts\": [query],\n",
    "#         \"distance\": -139.0,\n",
    "    }\n",
    "\n",
    "    properties = [\n",
    "        \"text\", \"title\", \"url\", \"views\",\n",
    "        \"_additional {distance}\"\n",
    "    ]\n",
    "\n",
    "    response = (\n",
    "        client.query\n",
    "        .get(\"Article\", properties)\n",
    "        .with_near_text(nearText)\n",
    "        .with_limit(5)\n",
    "        .do()\n",
    "    )\n",
    "\n",
    "    result = response['data']['Get']['Article']\n",
    "\n",
    "    return result\n",
    "  \n",
    "def print_result(result):\n",
    "    for item in result:\n",
    "        print(f\"\\033[95m{item['title']} ({item['views']}) {item['_additional']['distance']}\\033[0m\")\n",
    "        print(f\"\\033[4m{item['url']}\\033[0m\")\n",
    "        print(item['text'])\n",
    "        print()"
   ]
  },
  {
   "cell_type": "code",
   "execution_count": 22,
   "id": "d3e50ca2",
   "metadata": {},
   "outputs": [
    {
     "name": "stdout",
     "output_type": "stream",
     "text": [
      "\u001b[95mHarmonium (950.3016357421875) -144.7552\u001b[0m\n",
      "\u001b[4mhttps://simple.wikipedia.org/wiki?curid=305100\u001b[0m\n",
      "similar instruments. In Vienna, Anton Haeckl constructed the physharmonica, a keyboard instrument filled with free reeds. John Green invented the seraphine, which produced music when air was blown over metallic reeds. Such instruments are now museum pieces.\n",
      "\n",
      "\u001b[95mHarmonium (950.3016357421875) -142.79364\u001b[0m\n",
      "\u001b[4mhttps://simple.wikipedia.org/wiki?curid=305100\u001b[0m\n",
      "A harmonium, also called a \"melodeon\", \"reed organ\" or \"pump organ\", is a keyboard instrument that is a lot like an organ. It makes sound by blowing air through reeds, which are tuned to different pitches to make musical notes.\n",
      "\n",
      "\u001b[95mHarmonium (950.3016357421875) -139.97475\u001b[0m\n",
      "\u001b[4mhttps://simple.wikipedia.org/wiki?curid=305100\u001b[0m\n",
      "It was first invented by in 1840 in France, who patented his Harmonium in Paris on August 9, 1840. Harmonium with a Swarmandal (a small, harp-like instrument, similar to Zither and Autoharp) was produced by Bhishmadev Vedi. As the Swarmandal box was too big for the Harmonium, his disciple Manohar Chimote fixed the strings within the breadth of the instrument naming it as ‘Samvadini’. This instrument allows the strings to be played by the hand on the bellows, and keys by the other hand. Chimote provided a new natural ‘Gandhar’ tuning in this Harmonium. Although this tuning was limited to the 12 tones versus the 22 required in Hindustani classical music, it surely gave the European tuning of the Harmonium, an Indian flavour.\n",
      "\n",
      "\u001b[95mComputer (1322.3121337890625) -139.63593\u001b[0m\n",
      "\u001b[4mhttps://simple.wikipedia.org/wiki?curid=112\u001b[0m\n",
      "One of the first examples of this was built by Hero of Alexandria (c. 10–70 AD). He built a mechanical theater which performed a play lasting 10 minutes and was operated by a complex system of ropes and drums. These ropes and drums were the language of the machine- they told what the machine did and when. Some people argue that this is the first programmable machine.\n",
      "\n",
      "\u001b[95mHarmonium (950.3016357421875) -139.47551\u001b[0m\n",
      "\u001b[4mhttps://simple.wikipedia.org/wiki?curid=305100\u001b[0m\n",
      "The hand-pumped harmonium was created by Dwarkanath Ghose so that the instrument could be played while the player was sitting down on the floor. It is used in India, Pakistan, Nepal, Afghanistan, Bangladesh and in other South Asian countries as an accompanying instrument in Hindustani classical music, Sufi Music, and other devotional music, Qawwali, , and a variety of genres including accompaniment to Classical Kathak Dance and other entertainments.\n",
      "\n"
     ]
    }
   ],
   "source": [
    "# Pass the user query to Weaviate\n",
    "query_result = semantic_serch(\"musical instruments\")\n",
    "\n",
    "# Print out the result\n",
    "print_result(query_result)"
   ]
  }
 ],
 "metadata": {
  "kernelspec": {
   "display_name": "Python 3 (ipykernel)",
   "language": "python",
   "name": "python3"
  },
  "language_info": {
   "codemirror_mode": {
    "name": "ipython",
    "version": 3
   },
   "file_extension": ".py",
   "mimetype": "text/x-python",
   "name": "python",
   "nbconvert_exporter": "python",
   "pygments_lexer": "ipython3",
   "version": "3.9.12"
  }
 },
 "nbformat": 4,
 "nbformat_minor": 5
}
