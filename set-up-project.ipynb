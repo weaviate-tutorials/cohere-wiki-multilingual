{
 "cells": [
  {
   "cell_type": "code",
   "execution_count": null,
   "id": "204f9226",
   "metadata": {},
   "outputs": [],
   "source": [
    "!pip install weaviate-client"
   ]
  },
  {
   "cell_type": "markdown",
   "id": "5da93764",
   "metadata": {},
   "source": [
    "## Load data\n",
    "Download data from [drive](https://drive.google.com/file/d/1W8nBPZA2j1_6AGnw2BAe6ydXLNXzuDq2/view?usp=share_link)"
   ]
  },
  {
   "cell_type": "code",
   "execution_count": 38,
   "id": "b6bfb80e",
   "metadata": {},
   "outputs": [
    {
     "data": {
      "text/plain": [
       "True"
      ]
     },
     "execution_count": 38,
     "metadata": {},
     "output_type": "execute_result"
    }
   ],
   "source": [
    "import os\n",
    "import weaviate\n",
    "\n",
    "client = weaviate.Client(\n",
    "    url=\"https://cohere-wiki-demo.weaviate.network\",\n",
    "    additional_headers={\n",
    "        \"X-Cohere-Api-Key\": os.getenv(\"COHERE_API_KEY\"),\n",
    "    }\n",
    ")\n",
    "client.is_ready()"
   ]
  },
  {
   "cell_type": "code",
   "execution_count": 23,
   "id": "dde8cb41",
   "metadata": {},
   "outputs": [
    {
     "name": "stdout",
     "output_type": "stream",
     "text": [
      "The schema has been created\n"
     ]
    }
   ],
   "source": [
    "# delete existing schema, (note, this will delete all your weaviate data)\n",
    "client.schema.delete_all()\n",
    "\n",
    "article_schema = {\n",
    "    \"class\": \"Article\",\n",
    "    \"description\": \"Wiki Article\",\n",
    "    \"vectorizer\": \"text2vec-cohere\",\n",
    "    \"moduleConfig\": {\n",
    "        \"text2vec-cohere\": {\n",
    "            \"model\": \"multilingual-22-12\",\n",
    "            \"truncate\": \"RIGHT\"\n",
    "        }\n",
    "    },\n",
    "    \"vectorIndexConfig\": {\n",
    "        \"distance\": \"dot\"\n",
    "    },\n",
    "    \"properties\": [\n",
    "    {\n",
    "        \"name\": \"text\",\n",
    "        \"dataType\": [ \"text\" ],\n",
    "        \"description\": \"Article body\",\n",
    "        \"moduleConfig\": {\n",
    "            \"text2vec-cohere\": {\n",
    "                \"skip\": False,\n",
    "                \"vectorizePropertyName\": False\n",
    "            }\n",
    "        }\n",
    "    },\n",
    "    {\n",
    "        \"name\": \"title\",\n",
    "        \"dataType\": [ \"string\" ],\n",
    "        \"moduleConfig\": { \"text2vec-cohere\": { \"skip\": True } }\n",
    "    },\n",
    "    {\n",
    "        \"name\": \"url\",\n",
    "        \"dataType\": [ \"string\" ],\n",
    "        \"moduleConfig\": { \"text2vec-cohere\": { \"skip\": True } }\n",
    "    },\n",
    "    {\n",
    "        \"name\": \"wiki_id\",\n",
    "        \"dataType\": [ \"int\" ],\n",
    "        \"moduleConfig\": { \"text2vec-cohere\": { \"skip\": True } }\n",
    "    },\n",
    "    {\n",
    "        \"name\": \"views\",\n",
    "        \"dataType\": [ \"number\" ],\n",
    "        \"moduleConfig\": { \"text2vec-cohere\": { \"skip\": True } }\n",
    "    },\n",
    "    ]\n",
    "}\n",
    "\n",
    "# add the schema\n",
    "client.schema.create_class(article_schema)\n",
    "\n",
    "print(\"The schema has been created\")"
   ]
  },
  {
   "cell_type": "code",
   "execution_count": 3,
   "id": "f1475bdb",
   "metadata": {},
   "outputs": [],
   "source": [
    "import pandas as pd\n",
    "df = pd.read_parquet('./wiki_simple_100k.parquet')"
   ]
  },
  {
   "cell_type": "code",
   "execution_count": 39,
   "id": "5f4a984c",
   "metadata": {},
   "outputs": [
    {
     "data": {
      "text/plain": [
       "<weaviate.batch.crud_batch.Batch at 0x7fb0486ef3d0>"
      ]
     },
     "execution_count": 39,
     "metadata": {},
     "output_type": "execute_result"
    }
   ],
   "source": [
    "### Step 1 - configure Weaviate Batch, which optimizes CRUD operations in bulk\n",
    "# - starting batch size of 100\n",
    "# - dynamically increase/decrease based on performance\n",
    "# - add timeout retries if something goes wrong\n",
    "\n",
    "client.batch.configure(\n",
    "    batch_size=100,\n",
    "    dynamic=True,\n",
    "    timeout_retries=3,\n",
    ")"
   ]
  },
  {
   "cell_type": "code",
   "execution_count": 49,
   "id": "d92b1202",
   "metadata": {},
   "outputs": [
    {
     "name": "stdout",
     "output_type": "stream",
     "text": [
      "Import 100000 / 100000\n",
      "Import complete\n"
     ]
    }
   ],
   "source": [
    "data = df[:100_000] # make sure it is not more than 100k objects\n",
    "\n",
    "counter=0\n",
    "\n",
    "with client.batch as batch:\n",
    "    for idx, item in data.iterrows():        \n",
    "        # print update message every 100 objects        \n",
    "        if (counter %100 == 0):\n",
    "            print(f\"Import {counter} / {len(data)} \", end=\"\\r\")\n",
    "\n",
    "        properties = {\n",
    "            \"text\": item[\"text\"],\n",
    "            \"title\": item[\"title\"],\n",
    "            \"url\": item[\"url\"],\n",
    "            \"views\": item[\"views\"],\n",
    "            \"wiki_id\": item[\"wiki_id\"]\n",
    "        }\n",
    "\n",
    "        vector = item[\"emb\"]\n",
    "\n",
    "        batch.add_data_object(properties, \"Article\", None, vector)\n",
    "        counter = counter+1\n",
    "    print(f\"Import {counter} / {len(data)}\")\n",
    "        \n",
    "print(\"Import complete\")"
   ]
  },
  {
   "cell_type": "code",
   "execution_count": 42,
   "id": "249c4367",
   "metadata": {},
   "outputs": [
    {
     "name": "stdout",
     "output_type": "stream",
     "text": [
      "Object count:  [{'meta': {'count': 100000}}]\n"
     ]
    }
   ],
   "source": [
    "# Test that all data has loaded – get object count\n",
    "result = (\n",
    "    client.query.aggregate(\"Article\")\n",
    "    .with_fields(\"meta { count }\")\n",
    "    .do()\n",
    ")\n",
    "print(\"Object count: \", result[\"data\"][\"Aggregate\"][\"Article\"])"
   ]
  },
  {
   "cell_type": "code",
   "execution_count": 31,
   "id": "a004d241",
   "metadata": {},
   "outputs": [],
   "source": [
    "def semantic_serch(query):\n",
    "    nearText = {\n",
    "        \"concepts\": [query],\n",
    "#         \"distance\": -139.0,\n",
    "    }\n",
    "\n",
    "    properties = [\n",
    "        \"text\", \"title\", \"url\", \"views\",\n",
    "        \"_additional {distance}\"\n",
    "    ]\n",
    "\n",
    "    response = (\n",
    "        client.query\n",
    "        .get(\"Article\", properties)\n",
    "        .with_near_text(nearText)\n",
    "        .with_limit(5)\n",
    "        .do()\n",
    "    )\n",
    "\n",
    "    result = response['data']['Get']['Article']\n",
    "\n",
    "    return result\n",
    "\n",
    "\n",
    "def print_result(result):\n",
    "    for item in result:\n",
    "        print(f\"\\033[95m{item['title']} ({item['views']}) {item['_additional']['distance']}\\033[0m\")\n",
    "        print(f\"\\033[4m{item['url']}\\033[0m\")\n",
    "        print(item['text'])\n",
    "        print()"
   ]
  },
  {
   "cell_type": "code",
   "execution_count": 25,
   "id": "07dd0b3f",
   "metadata": {},
   "outputs": [
    {
     "name": "stdout",
     "output_type": "stream",
     "text": [
      "\u001b[95mClassical music (339.3004150390625) -146.06982\u001b[0m\n",
      "\u001b[4mhttps://simple.wikipedia.org/wiki?curid=5022\u001b[0m\n",
      "Classical music can be for instruments or for the voice. The symphony orchestra is the most common group of instruments for the playing of classical music. It has four families of instruments: the string instruments which include the violins, violas, cellos and piano, the woodwind instruments which include flutes, oboes,clarinets and bassoons together with related instruments of different sizes, the brass instruments: trumpet, trombone, tuba and French horn, and percussion instruments which nearly always includes timpani as well as many other possible instruments which are hit or shaken. This is very different from a typical rock band which has a drummer, a guitarist, one or two singers and an electric bass and keyboard. Instruments that play classical music are not normally amplified electronically.\n",
      "\n",
      "\u001b[95mScotland (396.1304016113281) -145.73114\u001b[0m\n",
      "\u001b[4mhttps://simple.wikipedia.org/wiki?curid=3049\u001b[0m\n",
      "Traditional Scottish musical instruments include: the bagpipe, accordion, the fiddle, the harp and tin whistle.\n",
      "\n",
      "\u001b[95mMusic (855.2849731445312) -145.41719\u001b[0m\n",
      "\u001b[4mhttps://simple.wikipedia.org/wiki?curid=472\u001b[0m\n",
      "Some music was written for use in church services (sacred music) by the Italian composer Giovanni da Palestrina (1525–1594). In Palestrina's music, many singers sing together (this is called a choir). There was also plenty of music not written for the church, such as happy dance music and romantic love songs. Popular instruments during the Renaissance included the viols (a string instrument played with a bow), lutes (a plucked stringed instrument that is a little like a guitar), and the virginal, a small, quiet keyboard instrument.\n",
      "\n",
      "\u001b[95mClassical music (339.3004150390625) -145.16403\u001b[0m\n",
      "\u001b[4mhttps://simple.wikipedia.org/wiki?curid=5022\u001b[0m\n",
      "The instruments used in classical music developed at different times. Some of the earliest were known in Medieval music. The trombone and the triangle have hardly changed for hundreds of years, but the violin family developed from folk instruments such as fiddles and gradually replaced the viols to form the basis of the modern orchestra. This was happening by the beginning of the 17th century, which was the time when opera was invented.\n",
      "\n",
      "\u001b[95mWii (278.9862365722656) -145.01424\u001b[0m\n",
      "\u001b[4mhttps://simple.wikipedia.org/wiki?curid=26033\u001b[0m\n",
      "There are many pretend instruments made by Nintendo and other companies for playing music video games like \"Guitar Hero\" and \"Rock Band\". So far, they have made guitars and drums. They plug into the bottom of the Wii Remote. There are also microphones that plug into the USB port on the back on the Wii console.\n",
      "\n"
     ]
    }
   ],
   "source": [
    "# Pass the user query to Weaviate\n",
    "query_result = semantic_serch(\"musical instruments\")\n",
    "\n",
    "# Print out the result\n",
    "print_result(query_result)"
   ]
  }
 ],
 "metadata": {
  "kernelspec": {
   "display_name": "Python 3 (ipykernel)",
   "language": "python",
   "name": "python3"
  },
  "language_info": {
   "codemirror_mode": {
    "name": "ipython",
    "version": 3
   },
   "file_extension": ".py",
   "mimetype": "text/x-python",
   "name": "python",
   "nbconvert_exporter": "python",
   "pygments_lexer": "ipython3",
   "version": "3.9.12"
  }
 },
 "nbformat": 4,
 "nbformat_minor": 5
}
