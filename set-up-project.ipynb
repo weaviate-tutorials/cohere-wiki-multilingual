{
 "cells": [
  {
   "cell_type": "code",
   "execution_count": 1,
   "id": "5075b48a",
   "metadata": {},
   "outputs": [
    {
     "name": "stdout",
     "output_type": "stream",
     "text": [
      "Requirement already satisfied: weaviate-client in /opt/anaconda3/lib/python3.9/site-packages (3.11.0)\n",
      "Requirement already satisfied: tqdm<5.0.0,>=4.59.0 in /opt/anaconda3/lib/python3.9/site-packages (from weaviate-client) (4.64.0)\n",
      "Requirement already satisfied: requests<2.29.0,>=2.28.0 in /opt/anaconda3/lib/python3.9/site-packages (from weaviate-client) (2.28.2)\n",
      "Requirement already satisfied: validators<0.20.0,>=0.18.2 in /opt/anaconda3/lib/python3.9/site-packages (from weaviate-client) (0.18.2)\n",
      "Requirement already satisfied: authlib>=1.1.0 in /opt/anaconda3/lib/python3.9/site-packages (from weaviate-client) (1.2.0)\n",
      "Requirement already satisfied: cryptography>=3.2 in /opt/anaconda3/lib/python3.9/site-packages (from authlib>=1.1.0->weaviate-client) (3.4.8)\n",
      "Requirement already satisfied: certifi>=2017.4.17 in /opt/anaconda3/lib/python3.9/site-packages (from requests<2.29.0,>=2.28.0->weaviate-client) (2021.10.8)\n",
      "Requirement already satisfied: charset-normalizer<4,>=2 in /opt/anaconda3/lib/python3.9/site-packages (from requests<2.29.0,>=2.28.0->weaviate-client) (2.0.4)\n",
      "Requirement already satisfied: urllib3<1.27,>=1.21.1 in /opt/anaconda3/lib/python3.9/site-packages (from requests<2.29.0,>=2.28.0->weaviate-client) (1.26.9)\n",
      "Requirement already satisfied: idna<4,>=2.5 in /opt/anaconda3/lib/python3.9/site-packages (from requests<2.29.0,>=2.28.0->weaviate-client) (3.3)\n",
      "Requirement already satisfied: six>=1.4.0 in /opt/anaconda3/lib/python3.9/site-packages (from validators<0.20.0,>=0.18.2->weaviate-client) (1.16.0)\n",
      "Requirement already satisfied: decorator>=3.4.0 in /opt/anaconda3/lib/python3.9/site-packages (from validators<0.20.0,>=0.18.2->weaviate-client) (5.1.1)\n",
      "Requirement already satisfied: cffi>=1.12 in /opt/anaconda3/lib/python3.9/site-packages (from cryptography>=3.2->authlib>=1.1.0->weaviate-client) (1.15.0)\n",
      "Requirement already satisfied: pycparser in /opt/anaconda3/lib/python3.9/site-packages (from cffi>=1.12->cryptography>=3.2->authlib>=1.1.0->weaviate-client) (2.21)\n",
      "\n",
      "\u001b[1m[\u001b[0m\u001b[34;49mnotice\u001b[0m\u001b[1;39;49m]\u001b[0m\u001b[39;49m A new release of pip available: \u001b[0m\u001b[31;49m22.3.1\u001b[0m\u001b[39;49m -> \u001b[0m\u001b[32;49m23.0.1\u001b[0m\n",
      "\u001b[1m[\u001b[0m\u001b[34;49mnotice\u001b[0m\u001b[1;39;49m]\u001b[0m\u001b[39;49m To update, run: \u001b[0m\u001b[32;49mpip install --upgrade pip\u001b[0m\n"
     ]
    }
   ],
   "source": [
    "!pip install weaviate-client"
   ]
  },
  {
   "cell_type": "code",
   "execution_count": null,
   "id": "a063e3cd",
   "metadata": {},
   "outputs": [],
   "source": []
  }
 ],
 "metadata": {
  "kernelspec": {
   "display_name": "Python 3 (ipykernel)",
   "language": "python",
   "name": "python3"
  },
  "language_info": {
   "codemirror_mode": {
    "name": "ipython",
    "version": 3
   },
   "file_extension": ".py",
   "mimetype": "text/x-python",
   "name": "python",
   "nbconvert_exporter": "python",
   "pygments_lexer": "ipython3",
   "version": "3.9.12"
  }
 },
 "nbformat": 4,
 "nbformat_minor": 5
}
