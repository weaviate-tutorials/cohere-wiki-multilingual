{
 "cells": [
  {
   "cell_type": "code",
   "execution_count": null,
   "id": "204f9226",
   "metadata": {},
   "outputs": [],
   "source": [
    "!pip install weaviate-client\n",
    "!pip install datasets"
   ]
  },
  {
   "attachments": {},
   "cell_type": "markdown",
   "id": "5da93764",
   "metadata": {},
   "source": [
    "## Load data\n",
    "\n",
    "Notes:\n",
    "* collection name: `Articles`\n",
    "* languages included: `en`, `de`, `fr`, `es`, `it`, `ja`, `ar`, `zh`, `ko`, `hi`\n",
    "* source: [Cohere/wikipedia-22-12-(lang)-embeddings](https://huggingface.co/Cohere)"
   ]
  },
  {
   "cell_type": "code",
   "execution_count": 116,
   "id": "b6bfb80e",
   "metadata": {},
   "outputs": [
    {
     "data": {
      "text/plain": [
       "True"
      ]
     },
     "execution_count": 116,
     "metadata": {},
     "output_type": "execute_result"
    }
   ],
   "source": [
    "import os\n",
    "import weaviate\n",
    "\n",
    "auth_config = weaviate.AuthBearerToken(\n",
    "  access_token = os.getenv(\"COHERE_AUTH_WRITE\"),\n",
    "  expires_in=36000 # in seconds, by default 60s\n",
    ")\n",
    "\n",
    "client = weaviate.Client(\n",
    "    url=\"https://cohere-demo.weaviate.network/\",\n",
    "    auth_client_secret=auth_config,\n",
    "    additional_headers={\n",
    "        \"X-Cohere-Api-Key\": os.getenv(\"COHERE_API_KEY\"),\n",
    "    },\n",
    "    timeout_config = (20, 240)\n",
    ")\n",
    "client.is_ready()"
   ]
  },
  {
   "cell_type": "code",
   "execution_count": 29,
   "id": "dde8cb41",
   "metadata": {},
   "outputs": [
    {
     "name": "stdout",
     "output_type": "stream",
     "text": [
      "The collection schema has been created\n"
     ]
    }
   ],
   "source": [
    "# delete existing schema, (note, this will delete the data in the Articles collection)\n",
    "# client.schema.delete_class(\"Articles\")\n",
    "\n",
    "article_schema = {\n",
    "    \"class\": \"Articles\",\n",
    "    \"description\": \"Wiki Article\",\n",
    "    \"vectorizer\": \"text2vec-cohere\",\n",
    "    \"moduleConfig\": {\n",
    "        \"text2vec-cohere\": {\n",
    "            \"model\": \"multilingual-22-12\",\n",
    "            \"truncate\": \"RIGHT\"\n",
    "        }\n",
    "    },\n",
    "    \"vectorIndexConfig\": {\n",
    "        \"distance\": \"dot\"\n",
    "    },\n",
    "    \"properties\": [\n",
    "    {\n",
    "        \"name\": \"text\",\n",
    "        \"dataType\": [ \"text\" ],\n",
    "        \"description\": \"Article body\",\n",
    "        \"moduleConfig\": {\n",
    "            \"text2vec-cohere\": {\n",
    "                \"skip\": False,\n",
    "                \"vectorizePropertyName\": False\n",
    "            }\n",
    "        }\n",
    "    },\n",
    "    {\n",
    "        \"name\": \"title\",\n",
    "        \"dataType\": [ \"text\" ],\n",
    "        \"moduleConfig\": { \"text2vec-cohere\": { \"skip\": True } }\n",
    "    },\n",
    "    {\n",
    "        \"name\": \"url\",\n",
    "        \"dataType\": [ \"string\" ],\n",
    "        \"moduleConfig\": { \"text2vec-cohere\": { \"skip\": True } }\n",
    "    },\n",
    "    {\n",
    "        \"name\": \"wiki_id\",\n",
    "        \"dataType\": [ \"int\" ],\n",
    "        \"moduleConfig\": { \"text2vec-cohere\": { \"skip\": True } }\n",
    "    },\n",
    "    {\n",
    "        \"name\": \"views\",\n",
    "        \"dataType\": [ \"int\" ],\n",
    "        \"moduleConfig\": { \"text2vec-cohere\": { \"skip\": True } }\n",
    "    },\n",
    "    {\n",
    "        \"name\": \"lang\",\n",
    "        \"dataType\": [ \"string\" ],\n",
    "        \"moduleConfig\": { \"text2vec-cohere\": { \"skip\": True } }\n",
    "    },\n",
    "    {\n",
    "        \"name\": \"lang_id\",\n",
    "        \"dataType\": [ \"int\" ],\n",
    "        \"moduleConfig\": { \"text2vec-cohere\": { \"skip\": True } }\n",
    "    },\n",
    "    ]\n",
    "}\n",
    "\n",
    "# add the schema\n",
    "client.schema.create_class(article_schema)\n",
    "print(\"The collection schema has been created\")"
   ]
  },
  {
   "cell_type": "code",
   "execution_count": 112,
   "id": "5f4a984c",
   "metadata": {},
   "outputs": [
    {
     "data": {
      "text/plain": [
       "<weaviate.batch.crud_batch.Batch at 0x7f7cfbd31ac0>"
      ]
     },
     "execution_count": 112,
     "metadata": {},
     "output_type": "execute_result"
    }
   ],
   "source": [
    "### Step 1 - configure Weaviate Batch, which optimizes CRUD operations in bulk\n",
    "# - starting batch size of 100\n",
    "# - dynamically increase/decrease based on performance\n",
    "# - add timeout retries if something goes wrong\n",
    "\n",
    "client.batch.configure(\n",
    "    batch_size=200,\n",
    "    # dynamic=True,\n",
    "    timeout_retries=3,\n",
    ")"
   ]
  },
  {
   "cell_type": "code",
   "execution_count": 113,
   "id": "f31aaada",
   "metadata": {},
   "outputs": [],
   "source": [
    "def round_views(val):\n",
    "    if(val < 10):\n",
    "        return int(val)\n",
    "\n",
    "    if(val < 100):\n",
    "        return int(val/10)*10\n",
    "    \n",
    "    if(val < 1_000):\n",
    "        return int(val/100)*100\n",
    "    \n",
    "    if(val < 10_000):\n",
    "        return int(val/1_000)*1_000\n",
    "    \n",
    "    if(val < 100_000):\n",
    "        return int(val/10_000)*10_000\n",
    "    \n",
    "    return int(val/100_000)*100_000"
   ]
  },
  {
   "cell_type": "code",
   "execution_count": 114,
   "id": "c7852b49",
   "metadata": {},
   "outputs": [],
   "source": [
    "from datasets import load_dataset\n",
    "from tqdm import tqdm\n",
    "\n",
    "def import_wiki_data(lang, lang_id, max_rows, skip_rows=0):\n",
    "    print(f\"Importing {max_rows} data items for {lang}\")\n",
    "\n",
    "    dataset = load_dataset(f\"Cohere/wikipedia-22-12-{lang}-embeddings\", split='train', streaming=True)\n",
    "    dataset = dataset.skip(skip_rows)\n",
    "\n",
    "    # counter = 0\n",
    "    counter = skip_rows\n",
    "\n",
    "    # dataset.num_rows\n",
    "\n",
    "    with client.batch as batch:\n",
    "        for item in tqdm(dataset, initial=skip_rows, total=max_rows):\n",
    "            vector = item[\"emb\"]\n",
    "            data_to_insert = {   \n",
    "                # '_id': doc_id,\n",
    "                'wiki_id': item['wiki_id'],\n",
    "                'title': item['title'],\n",
    "                'text': item['text'],\n",
    "                'url': item['url'],\n",
    "                'lang': lang,\n",
    "                'lang_id': lang_id,\n",
    "                'views': round_views(item['views']),\n",
    "                'num_langs': item['langs'],\n",
    "            }\n",
    "\n",
    "            batch.add_data_object(data_to_insert, \"Articles\", None, vector)\n",
    "            \n",
    "            counter += 1\n",
    "            if counter >= max_rows:\n",
    "                break\n",
    "    \n",
    "    print(f\"Imported {counter} items for {lang}\")\n",
    "    print( \"-----------------------------------\")"
   ]
  },
  {
   "cell_type": "code",
   "execution_count": 115,
   "id": "d92b1202",
   "metadata": {},
   "outputs": [
    {
     "name": "stdout",
     "output_type": "stream",
     "text": [
      "Importing 1000000 data items for ja\n"
     ]
    },
    {
     "name": "stderr",
     "output_type": "stream",
     "text": [
      "Using custom data configuration Cohere--wikipedia-22-12-ja-embeddings-ccaffb31b2ed5e09\n",
      " 97%|█████████▋| 972400/1000000 [00:00<?, ?it/s]Got disconnected from remote data host. Retrying in 5sec [1/20]\n",
      "/opt/anaconda3/lib/python3.9/asyncio/sslproto.py:320: ResourceWarning: unclosed transport <asyncio.sslproto._SSLProtocolTransport object at 0x7f7cfc9bf100>\n",
      "  _warn(f\"unclosed transport {self!r}\", ResourceWarning, source=self)\n",
      "ResourceWarning: Enable tracemalloc to get the object allocation traceback\n",
      "Got disconnected from remote data host. Retrying in 5sec [1/20]\n",
      "sys:1: ResourceWarning: unclosed socket <zmq.Socket(zmq.PUSH) at 0x7f7b8e2bb0a0>\n",
      "ResourceWarning: Enable tracemalloc to get the object allocation traceback\n",
      " 98%|█████████▊| 983185/1000000 [47:27<03:43, 75.36it/s]        [ERROR] Batch ReadTimeout Exception occurred! Retrying in 2s. [1/3]\n",
      " 98%|█████████▊| 984999/1000000 [1:00:06<1:11:33,  3.49it/s]\n"
     ]
    },
    {
     "ename": "KeyboardInterrupt",
     "evalue": "",
     "output_type": "error",
     "traceback": [
      "\u001b[0;31m---------------------------------------------------------------------------\u001b[0m",
      "\u001b[0;31mKeyboardInterrupt\u001b[0m                         Traceback (most recent call last)",
      "\u001b[1;32m/Users/sebawita/github/cohere-wiki-multilingual/wiki-large-setup.ipynb Cell 8\u001b[0m in \u001b[0;36mimport_wiki_data\u001b[0;34m(lang, lang_id, max_rows, skip_rows)\u001b[0m\n\u001b[1;32m     <a href='vscode-notebook-cell:/Users/sebawita/github/cohere-wiki-multilingual/wiki-large-setup.ipynb#X10sZmlsZQ%3D%3D?line=23'>24</a>\u001b[0m data_to_insert \u001b[39m=\u001b[39m {   \n\u001b[1;32m     <a href='vscode-notebook-cell:/Users/sebawita/github/cohere-wiki-multilingual/wiki-large-setup.ipynb#X10sZmlsZQ%3D%3D?line=24'>25</a>\u001b[0m     \u001b[39m# '_id': doc_id,\u001b[39;00m\n\u001b[1;32m     <a href='vscode-notebook-cell:/Users/sebawita/github/cohere-wiki-multilingual/wiki-large-setup.ipynb#X10sZmlsZQ%3D%3D?line=25'>26</a>\u001b[0m     \u001b[39m'\u001b[39m\u001b[39mwiki_id\u001b[39m\u001b[39m'\u001b[39m: item[\u001b[39m'\u001b[39m\u001b[39mwiki_id\u001b[39m\u001b[39m'\u001b[39m],\n\u001b[0;32m   (...)\u001b[0m\n\u001b[1;32m     <a href='vscode-notebook-cell:/Users/sebawita/github/cohere-wiki-multilingual/wiki-large-setup.ipynb#X10sZmlsZQ%3D%3D?line=32'>33</a>\u001b[0m     \u001b[39m'\u001b[39m\u001b[39mnum_langs\u001b[39m\u001b[39m'\u001b[39m: item[\u001b[39m'\u001b[39m\u001b[39mlangs\u001b[39m\u001b[39m'\u001b[39m],\n\u001b[1;32m     <a href='vscode-notebook-cell:/Users/sebawita/github/cohere-wiki-multilingual/wiki-large-setup.ipynb#X10sZmlsZQ%3D%3D?line=33'>34</a>\u001b[0m }\n\u001b[0;32m---> <a href='vscode-notebook-cell:/Users/sebawita/github/cohere-wiki-multilingual/wiki-large-setup.ipynb#X10sZmlsZQ%3D%3D?line=35'>36</a>\u001b[0m batch\u001b[39m.\u001b[39;49madd_data_object(data_to_insert, \u001b[39m\"\u001b[39;49m\u001b[39mArticles\u001b[39;49m\u001b[39m\"\u001b[39;49m, \u001b[39mNone\u001b[39;49;00m, vector)\n\u001b[1;32m     <a href='vscode-notebook-cell:/Users/sebawita/github/cohere-wiki-multilingual/wiki-large-setup.ipynb#X10sZmlsZQ%3D%3D?line=37'>38</a>\u001b[0m counter \u001b[39m+\u001b[39m\u001b[39m=\u001b[39m \u001b[39m1\u001b[39m\n",
      "File \u001b[0;32m/opt/anaconda3/lib/python3.9/site-packages/weaviate/batch/crud_batch.py:495\u001b[0m, in \u001b[0;36mBatch.add_data_object\u001b[0;34m(self, data_object, class_name, uuid, vector)\u001b[0m\n\u001b[1;32m    494\u001b[0m \u001b[39mif\u001b[39;00m \u001b[39mself\u001b[39m\u001b[39m.\u001b[39m_batching_type:\n\u001b[0;32m--> 495\u001b[0m     \u001b[39mself\u001b[39;49m\u001b[39m.\u001b[39;49m_auto_create()\n\u001b[1;32m    497\u001b[0m \u001b[39mreturn\u001b[39;00m uuid\n",
      "File \u001b[0;32m/opt/anaconda3/lib/python3.9/site-packages/weaviate/batch/crud_batch.py:1124\u001b[0m, in \u001b[0;36mBatch._auto_create\u001b[0;34m(self)\u001b[0m\n\u001b[1;32m   1123\u001b[0m \u001b[39mif\u001b[39;00m \u001b[39msum\u001b[39m(\u001b[39mself\u001b[39m\u001b[39m.\u001b[39mshape) \u001b[39m>\u001b[39m\u001b[39m=\u001b[39m \u001b[39mself\u001b[39m\u001b[39m.\u001b[39m_batch_size:\n\u001b[0;32m-> 1124\u001b[0m     \u001b[39mself\u001b[39;49m\u001b[39m.\u001b[39;49m_send_batch_requests(force_wait\u001b[39m=\u001b[39;49m\u001b[39mFalse\u001b[39;49;00m)\n\u001b[1;32m   1125\u001b[0m \u001b[39mreturn\u001b[39;00m\n",
      "File \u001b[0;32m/opt/anaconda3/lib/python3.9/site-packages/weaviate/batch/crud_batch.py:1049\u001b[0m, in \u001b[0;36mBatch._send_batch_requests\u001b[0;34m(self, force_wait)\u001b[0m\n\u001b[1;32m   1048\u001b[0m timeout_occurred \u001b[39m=\u001b[39m \u001b[39mFalse\u001b[39;00m\n\u001b[0;32m-> 1049\u001b[0m \u001b[39mfor\u001b[39;00m done_future \u001b[39min\u001b[39;00m as_completed(\u001b[39mself\u001b[39m\u001b[39m.\u001b[39m_future_pool):\n\u001b[1;32m   1051\u001b[0m     response_objects, nr_objects \u001b[39m=\u001b[39m done_future\u001b[39m.\u001b[39mresult()\n",
      "File \u001b[0;32m/opt/anaconda3/lib/python3.9/concurrent/futures/_base.py:245\u001b[0m, in \u001b[0;36mas_completed\u001b[0;34m(fs, timeout)\u001b[0m\n\u001b[1;32m    241\u001b[0m         \u001b[39mraise\u001b[39;00m \u001b[39mTimeoutError\u001b[39;00m(\n\u001b[1;32m    242\u001b[0m                 \u001b[39m'\u001b[39m\u001b[39m%d\u001b[39;00m\u001b[39m (of \u001b[39m\u001b[39m%d\u001b[39;00m\u001b[39m) futures unfinished\u001b[39m\u001b[39m'\u001b[39m \u001b[39m%\u001b[39m (\n\u001b[1;32m    243\u001b[0m                 \u001b[39mlen\u001b[39m(pending), total_futures))\n\u001b[0;32m--> 245\u001b[0m waiter\u001b[39m.\u001b[39;49mevent\u001b[39m.\u001b[39;49mwait(wait_timeout)\n\u001b[1;32m    247\u001b[0m \u001b[39mwith\u001b[39;00m waiter\u001b[39m.\u001b[39mlock:\n",
      "File \u001b[0;32m/opt/anaconda3/lib/python3.9/threading.py:574\u001b[0m, in \u001b[0;36mEvent.wait\u001b[0;34m(self, timeout)\u001b[0m\n\u001b[1;32m    573\u001b[0m \u001b[39mif\u001b[39;00m \u001b[39mnot\u001b[39;00m signaled:\n\u001b[0;32m--> 574\u001b[0m     signaled \u001b[39m=\u001b[39m \u001b[39mself\u001b[39;49m\u001b[39m.\u001b[39;49m_cond\u001b[39m.\u001b[39;49mwait(timeout)\n\u001b[1;32m    575\u001b[0m \u001b[39mreturn\u001b[39;00m signaled\n",
      "File \u001b[0;32m/opt/anaconda3/lib/python3.9/threading.py:312\u001b[0m, in \u001b[0;36mCondition.wait\u001b[0;34m(self, timeout)\u001b[0m\n\u001b[1;32m    311\u001b[0m \u001b[39mif\u001b[39;00m timeout \u001b[39mis\u001b[39;00m \u001b[39mNone\u001b[39;00m:\n\u001b[0;32m--> 312\u001b[0m     waiter\u001b[39m.\u001b[39;49macquire()\n\u001b[1;32m    313\u001b[0m     gotit \u001b[39m=\u001b[39m \u001b[39mTrue\u001b[39;00m\n",
      "\u001b[0;31mKeyboardInterrupt\u001b[0m: ",
      "\nDuring handling of the above exception, another exception occurred:\n",
      "\u001b[0;31mKeyboardInterrupt\u001b[0m                         Traceback (most recent call last)",
      "\u001b[1;32m/Users/sebawita/github/cohere-wiki-multilingual/wiki-large-setup.ipynb Cell 8\u001b[0m in \u001b[0;36m<cell line: 9>\u001b[0;34m()\u001b[0m\n\u001b[1;32m      <a href='vscode-notebook-cell:/Users/sebawita/github/cohere-wiki-multilingual/wiki-large-setup.ipynb#X10sZmlsZQ%3D%3D?line=1'>2</a>\u001b[0m import_per_country \u001b[39m=\u001b[39m \u001b[39m1_000_000\u001b[39m\n\u001b[1;32m      <a href='vscode-notebook-cell:/Users/sebawita/github/cohere-wiki-multilingual/wiki-large-setup.ipynb#X10sZmlsZQ%3D%3D?line=3'>4</a>\u001b[0m \u001b[39m# import_wiki_data('en', 0, import_per_country, 1_000_000)\u001b[39;00m\n\u001b[1;32m      <a href='vscode-notebook-cell:/Users/sebawita/github/cohere-wiki-multilingual/wiki-large-setup.ipynb#X10sZmlsZQ%3D%3D?line=4'>5</a>\u001b[0m \u001b[39m# import_wiki_data('de', 1, import_per_country, 1_000_000)\u001b[39;00m\n\u001b[1;32m      <a href='vscode-notebook-cell:/Users/sebawita/github/cohere-wiki-multilingual/wiki-large-setup.ipynb#X10sZmlsZQ%3D%3D?line=5'>6</a>\u001b[0m \u001b[39m# import_wiki_data('fr', 2, import_per_country, 1_000_000)\u001b[39;00m\n\u001b[1;32m      <a href='vscode-notebook-cell:/Users/sebawita/github/cohere-wiki-multilingual/wiki-large-setup.ipynb#X10sZmlsZQ%3D%3D?line=6'>7</a>\u001b[0m \u001b[39m# import_wiki_data('es', 3, import_per_country, 1_000_000)\u001b[39;00m\n\u001b[1;32m      <a href='vscode-notebook-cell:/Users/sebawita/github/cohere-wiki-multilingual/wiki-large-setup.ipynb#X10sZmlsZQ%3D%3D?line=7'>8</a>\u001b[0m \u001b[39m# import_wiki_data('it', 4, import_per_country, 1_000_000)\u001b[39;00m\n\u001b[0;32m----> <a href='vscode-notebook-cell:/Users/sebawita/github/cohere-wiki-multilingual/wiki-large-setup.ipynb#X10sZmlsZQ%3D%3D?line=8'>9</a>\u001b[0m import_wiki_data(\u001b[39m'\u001b[39;49m\u001b[39mja\u001b[39;49m\u001b[39m'\u001b[39;49m, \u001b[39m5\u001b[39;49m, import_per_country, \u001b[39m972_400\u001b[39;49m)\n",
      "\u001b[1;32m/Users/sebawita/github/cohere-wiki-multilingual/wiki-large-setup.ipynb Cell 8\u001b[0m in \u001b[0;36mimport_wiki_data\u001b[0;34m(lang, lang_id, max_rows, skip_rows)\u001b[0m\n\u001b[1;32m     <a href='vscode-notebook-cell:/Users/sebawita/github/cohere-wiki-multilingual/wiki-large-setup.ipynb#X10sZmlsZQ%3D%3D?line=37'>38</a>\u001b[0m         counter \u001b[39m+\u001b[39m\u001b[39m=\u001b[39m \u001b[39m1\u001b[39m\n\u001b[1;32m     <a href='vscode-notebook-cell:/Users/sebawita/github/cohere-wiki-multilingual/wiki-large-setup.ipynb#X10sZmlsZQ%3D%3D?line=38'>39</a>\u001b[0m         \u001b[39mif\u001b[39;00m counter \u001b[39m>\u001b[39m\u001b[39m=\u001b[39m max_rows:\n\u001b[0;32m---> <a href='vscode-notebook-cell:/Users/sebawita/github/cohere-wiki-multilingual/wiki-large-setup.ipynb#X10sZmlsZQ%3D%3D?line=39'>40</a>\u001b[0m             \u001b[39mbreak\u001b[39;00m\n\u001b[1;32m     <a href='vscode-notebook-cell:/Users/sebawita/github/cohere-wiki-multilingual/wiki-large-setup.ipynb#X10sZmlsZQ%3D%3D?line=41'>42</a>\u001b[0m \u001b[39mprint\u001b[39m(\u001b[39mf\u001b[39m\u001b[39m\"\u001b[39m\u001b[39mImported \u001b[39m\u001b[39m{\u001b[39;00mcounter\u001b[39m}\u001b[39;00m\u001b[39m items for \u001b[39m\u001b[39m{\u001b[39;00mlang\u001b[39m}\u001b[39;00m\u001b[39m\"\u001b[39m)\n\u001b[1;32m     <a href='vscode-notebook-cell:/Users/sebawita/github/cohere-wiki-multilingual/wiki-large-setup.ipynb#X10sZmlsZQ%3D%3D?line=42'>43</a>\u001b[0m \u001b[39mprint\u001b[39m( \u001b[39m\"\u001b[39m\u001b[39m-----------------------------------\u001b[39m\u001b[39m\"\u001b[39m)\n",
      "File \u001b[0;32m/opt/anaconda3/lib/python3.9/site-packages/weaviate/batch/crud_batch.py:1512\u001b[0m, in \u001b[0;36mBatch.__exit__\u001b[0;34m(self, exc_type, exc_val, exc_tb)\u001b[0m\n\u001b[1;32m   1511\u001b[0m \u001b[39mdef\u001b[39;00m \u001b[39m__exit__\u001b[39m(\u001b[39mself\u001b[39m, exc_type, exc_val, exc_tb):\n\u001b[0;32m-> 1512\u001b[0m     \u001b[39mself\u001b[39;49m\u001b[39m.\u001b[39;49mflush()\n\u001b[1;32m   1513\u001b[0m     \u001b[39mself\u001b[39m\u001b[39m.\u001b[39mshutdown()\n",
      "File \u001b[0;32m/opt/anaconda3/lib/python3.9/site-packages/weaviate/batch/crud_batch.py:1141\u001b[0m, in \u001b[0;36mBatch.flush\u001b[0;34m(self)\u001b[0m\n\u001b[1;32m   1136\u001b[0m \u001b[39mdef\u001b[39;00m \u001b[39mflush\u001b[39m(\u001b[39mself\u001b[39m) \u001b[39m-\u001b[39m\u001b[39m>\u001b[39m \u001b[39mNone\u001b[39;00m:\n\u001b[1;32m   1137\u001b[0m     \u001b[39m\"\"\"\u001b[39;00m\n\u001b[1;32m   1138\u001b[0m \u001b[39m    Flush both objects and references to the Weaviate server and call the callback function\u001b[39;00m\n\u001b[1;32m   1139\u001b[0m \u001b[39m    if one is provided. (See the docs for `configure` or `__call__` for how to set one.)\u001b[39;00m\n\u001b[1;32m   1140\u001b[0m \u001b[39m    \"\"\"\u001b[39;00m\n\u001b[0;32m-> 1141\u001b[0m     \u001b[39mself\u001b[39;49m\u001b[39m.\u001b[39;49m_send_batch_requests(force_wait\u001b[39m=\u001b[39;49m\u001b[39mTrue\u001b[39;49;00m)\n",
      "File \u001b[0;32m/opt/anaconda3/lib/python3.9/site-packages/weaviate/batch/crud_batch.py:1049\u001b[0m, in \u001b[0;36mBatch._send_batch_requests\u001b[0;34m(self, force_wait)\u001b[0m\n\u001b[1;32m   1047\u001b[0m     \u001b[39mreturn\u001b[39;00m\n\u001b[1;32m   1048\u001b[0m timeout_occurred \u001b[39m=\u001b[39m \u001b[39mFalse\u001b[39;00m\n\u001b[0;32m-> 1049\u001b[0m \u001b[39mfor\u001b[39;00m done_future \u001b[39min\u001b[39;00m as_completed(\u001b[39mself\u001b[39m\u001b[39m.\u001b[39m_future_pool):\n\u001b[1;32m   1051\u001b[0m     response_objects, nr_objects \u001b[39m=\u001b[39m done_future\u001b[39m.\u001b[39mresult()\n\u001b[1;32m   1053\u001b[0m     \u001b[39m# handle objects response\u001b[39;00m\n",
      "File \u001b[0;32m/opt/anaconda3/lib/python3.9/concurrent/futures/_base.py:245\u001b[0m, in \u001b[0;36mas_completed\u001b[0;34m(fs, timeout)\u001b[0m\n\u001b[1;32m    240\u001b[0m     \u001b[39mif\u001b[39;00m wait_timeout \u001b[39m<\u001b[39m \u001b[39m0\u001b[39m:\n\u001b[1;32m    241\u001b[0m         \u001b[39mraise\u001b[39;00m \u001b[39mTimeoutError\u001b[39;00m(\n\u001b[1;32m    242\u001b[0m                 \u001b[39m'\u001b[39m\u001b[39m%d\u001b[39;00m\u001b[39m (of \u001b[39m\u001b[39m%d\u001b[39;00m\u001b[39m) futures unfinished\u001b[39m\u001b[39m'\u001b[39m \u001b[39m%\u001b[39m (\n\u001b[1;32m    243\u001b[0m                 \u001b[39mlen\u001b[39m(pending), total_futures))\n\u001b[0;32m--> 245\u001b[0m waiter\u001b[39m.\u001b[39;49mevent\u001b[39m.\u001b[39;49mwait(wait_timeout)\n\u001b[1;32m    247\u001b[0m \u001b[39mwith\u001b[39;00m waiter\u001b[39m.\u001b[39mlock:\n\u001b[1;32m    248\u001b[0m     finished \u001b[39m=\u001b[39m waiter\u001b[39m.\u001b[39mfinished_futures\n",
      "File \u001b[0;32m/opt/anaconda3/lib/python3.9/threading.py:574\u001b[0m, in \u001b[0;36mEvent.wait\u001b[0;34m(self, timeout)\u001b[0m\n\u001b[1;32m    572\u001b[0m signaled \u001b[39m=\u001b[39m \u001b[39mself\u001b[39m\u001b[39m.\u001b[39m_flag\n\u001b[1;32m    573\u001b[0m \u001b[39mif\u001b[39;00m \u001b[39mnot\u001b[39;00m signaled:\n\u001b[0;32m--> 574\u001b[0m     signaled \u001b[39m=\u001b[39m \u001b[39mself\u001b[39;49m\u001b[39m.\u001b[39;49m_cond\u001b[39m.\u001b[39;49mwait(timeout)\n\u001b[1;32m    575\u001b[0m \u001b[39mreturn\u001b[39;00m signaled\n",
      "File \u001b[0;32m/opt/anaconda3/lib/python3.9/threading.py:312\u001b[0m, in \u001b[0;36mCondition.wait\u001b[0;34m(self, timeout)\u001b[0m\n\u001b[1;32m    310\u001b[0m \u001b[39mtry\u001b[39;00m:    \u001b[39m# restore state no matter what (e.g., KeyboardInterrupt)\u001b[39;00m\n\u001b[1;32m    311\u001b[0m     \u001b[39mif\u001b[39;00m timeout \u001b[39mis\u001b[39;00m \u001b[39mNone\u001b[39;00m:\n\u001b[0;32m--> 312\u001b[0m         waiter\u001b[39m.\u001b[39;49macquire()\n\u001b[1;32m    313\u001b[0m         gotit \u001b[39m=\u001b[39m \u001b[39mTrue\u001b[39;00m\n\u001b[1;32m    314\u001b[0m     \u001b[39melse\u001b[39;00m:\n",
      "\u001b[0;31mKeyboardInterrupt\u001b[0m: "
     ]
    }
   ],
   "source": [
    "# import_per_country = 100_000\n",
    "import_per_country = 1_000_000\n",
    "\n",
    "# import_wiki_data('en', 0, import_per_country, 1_000_000)\n",
    "# import_wiki_data('de', 1, import_per_country, 1_000_000)\n",
    "# import_wiki_data('fr', 2, import_per_country, 1_000_000)\n",
    "# import_wiki_data('es', 3, import_per_country, 1_000_000)\n",
    "# import_wiki_data('it', 4, import_per_country, 1_000_000)\n",
    "import_wiki_data('ja', 5, import_per_country, 985_000)\n",
    "# import_wiki_data('ar', 6, import_per_country, 561_000)\n",
    "# import_wiki_data('zh', 7, import_per_country, 100_000)\n",
    "# import_wiki_data('ko', 8, import_per_country, 100_000)\n",
    "# import_wiki_data('hi', 9, import_per_country, 100_000)"
   ]
  },
  {
   "attachments": {},
   "cell_type": "markdown",
   "id": "21eb5e10",
   "metadata": {},
   "source": [
    "### Show number of imported items"
   ]
  },
  {
   "cell_type": "code",
   "execution_count": null,
   "id": "249c4367",
   "metadata": {},
   "outputs": [],
   "source": [
    "# Test that all data has loaded – get object count\n",
    "result = (\n",
    "    client.query.aggregate(\"Articles\")\n",
    "    .with_where({\n",
    "        \"path\": [\"lang_id\"],\n",
    "        \"operator\": \"Equal\",\n",
    "        \"valueInt\": 5\n",
    "    })\n",
    "    # .with_group_by_filter([\"lang_id\"])\n",
    "    # .with_fields(\"groupedBy {value}\")\n",
    "    .with_meta_count()\n",
    "    .do()\n",
    ")\n",
    "print(\"Object count: \", result[\"data\"][\"Aggregate\"][\"Articles\"])"
   ]
  }
 ],
 "metadata": {
  "kernelspec": {
   "display_name": "Python 3",
   "language": "python",
   "name": "python3"
  },
  "language_info": {
   "codemirror_mode": {
    "name": "ipython",
    "version": 3
   },
   "file_extension": ".py",
   "mimetype": "text/x-python",
   "name": "python",
   "nbconvert_exporter": "python",
   "pygments_lexer": "ipython3",
   "version": "3.9.12"
  },
  "vscode": {
   "interpreter": {
    "hash": "40d3a090f54c6569ab1632332b64b2c03c39dcf918b08424e98f38b5ae0af88f"
   }
  }
 },
 "nbformat": 4,
 "nbformat_minor": 5
}
