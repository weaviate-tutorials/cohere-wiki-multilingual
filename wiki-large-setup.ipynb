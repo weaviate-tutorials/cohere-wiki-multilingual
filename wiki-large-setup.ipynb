{
 "cells": [
  {
   "cell_type": "code",
   "execution_count": null,
   "id": "204f9226",
   "metadata": {},
   "outputs": [],
   "source": [
    "!pip install weaviate-client\n",
    "!pip install datasets"
   ]
  },
  {
   "attachments": {},
   "cell_type": "markdown",
   "id": "5da93764",
   "metadata": {},
   "source": [
    "## Load data\n",
    "\n",
    "Notes:\n",
    "* collection name: `Articles`\n",
    "* languages included: `en`, `de`, `fr`, `es`, `it`, `ja`, `ar`, `zh`, `ko`, `hi`\n",
    "* source: [Cohere/wikipedia-22-12-(lang)-embeddings](https://huggingface.co/Cohere)"
   ]
  },
  {
   "cell_type": "code",
   "execution_count": null,
   "id": "b6bfb80e",
   "metadata": {},
   "outputs": [],
   "source": [
    "import os\n",
    "import weaviate\n",
    "\n",
    "client = weaviate.Client(\n",
    "    url=\"https://cohere-wiki-demo.weaviate.network\",\n",
    "    additional_headers={\n",
    "        \"X-Cohere-Api-Key\": os.getenv(\"COHERE_API_KEY\"),\n",
    "    }\n",
    ")\n",
    "client.is_ready()"
   ]
  },
  {
   "cell_type": "code",
   "execution_count": null,
   "id": "dde8cb41",
   "metadata": {},
   "outputs": [],
   "source": [
    "# delete existing schema, (note, this will delete the data in the Articles collection)\n",
    "client.schema.delete_class(\"Articles\")\n",
    "\n",
    "article_schema = {\n",
    "    \"class\": \"Articles\",\n",
    "    \"description\": \"Wiki Article\",\n",
    "    \"vectorizer\": \"text2vec-cohere\",\n",
    "    \"moduleConfig\": {\n",
    "        \"text2vec-cohere\": {\n",
    "            \"model\": \"multilingual-22-12\",\n",
    "            \"truncate\": \"RIGHT\"\n",
    "        }\n",
    "    },\n",
    "    \"vectorIndexConfig\": {\n",
    "        \"distance\": \"dot\"\n",
    "    },\n",
    "    \"properties\": [\n",
    "    {\n",
    "        \"name\": \"text\",\n",
    "        \"dataType\": [ \"text\" ],\n",
    "        \"description\": \"Article body\",\n",
    "        \"moduleConfig\": {\n",
    "            \"text2vec-cohere\": {\n",
    "                \"skip\": False,\n",
    "                \"vectorizePropertyName\": False\n",
    "            }\n",
    "        }\n",
    "    },\n",
    "    {\n",
    "        \"name\": \"title\",\n",
    "        \"dataType\": [ \"string\" ],\n",
    "        \"moduleConfig\": { \"text2vec-cohere\": { \"skip\": True } }\n",
    "    },\n",
    "    {\n",
    "        \"name\": \"url\",\n",
    "        \"dataType\": [ \"string\" ],\n",
    "        \"moduleConfig\": { \"text2vec-cohere\": { \"skip\": True } }\n",
    "    },\n",
    "    {\n",
    "        \"name\": \"wiki_id\",\n",
    "        \"dataType\": [ \"int\" ],\n",
    "        \"moduleConfig\": { \"text2vec-cohere\": { \"skip\": True } }\n",
    "    },\n",
    "    {\n",
    "        \"name\": \"views\",\n",
    "        \"dataType\": [ \"number\" ],\n",
    "        \"moduleConfig\": { \"text2vec-cohere\": { \"skip\": True } }\n",
    "    },\n",
    "    {\n",
    "        \"name\": \"lang\",\n",
    "        \"dataType\": [ \"string\" ],\n",
    "        \"moduleConfig\": { \"text2vec-cohere\": { \"skip\": True } }\n",
    "    },\n",
    "    {\n",
    "        \"name\": \"lang_id\",\n",
    "        \"dataType\": [ \"int\" ],\n",
    "        \"moduleConfig\": { \"text2vec-cohere\": { \"skip\": True } }\n",
    "    },\n",
    "    ]\n",
    "}\n",
    "\n",
    "# add the schema\n",
    "client.schema.create_class(article_schema)\n",
    "print(\"The collection schema has been created\")"
   ]
  },
  {
   "cell_type": "code",
   "execution_count": null,
   "id": "5f4a984c",
   "metadata": {},
   "outputs": [],
   "source": [
    "### Step 1 - configure Weaviate Batch, which optimizes CRUD operations in bulk\n",
    "# - starting batch size of 100\n",
    "# - dynamically increase/decrease based on performance\n",
    "# - add timeout retries if something goes wrong\n",
    "\n",
    "client.batch.configure(\n",
    "    batch_size=100,\n",
    "    dynamic=True,\n",
    "    timeout_retries=3,\n",
    ")"
   ]
  },
  {
   "cell_type": "code",
   "execution_count": 17,
   "id": "c7852b49",
   "metadata": {},
   "outputs": [],
   "source": [
    "from datasets import load_dataset\n",
    "from tqdm import tqdm\n",
    "\n",
    "def import_wiki_data(lang, lang_id, max_rows):\n",
    "    print(f\"Importing {max_rows} data items for {lang}\")\n",
    "\n",
    "    data = load_dataset(f\"Cohere/wikipedia-22-12-{lang}-embeddings\", split='train', streaming=True)\n",
    "\n",
    "    counter = 0\n",
    "\n",
    "    with client.batch as batch:\n",
    "        for item in tqdm(data, total=max_rows):\n",
    "            # doc_id = f\"{lang}_{item['id']}\"\n",
    "\n",
    "            vector = item[\"emb\"]\n",
    "            data_to_insert = {   \n",
    "                # '_id': doc_id,\n",
    "                'wiki_id': item['wiki_id'],\n",
    "                'title': item['title'],\n",
    "                'text': item['text'],\n",
    "                'url': item['url'],\n",
    "                'lang': lang,\n",
    "                'lang_id': lang_id,\n",
    "                'views': item['views'], \n",
    "                'num_langs': item['langs'],\n",
    "            }\n",
    "\n",
    "            batch.add_data_object(data_to_insert, \"Articles\", None, vector)\n",
    "            counter += 1\n",
    "            if counter >= max_rows:\n",
    "                break\n",
    "    \n",
    "    print(f\"Imported {counter} items for {lang}\")"
   ]
  },
  {
   "cell_type": "code",
   "execution_count": null,
   "id": "d92b1202",
   "metadata": {},
   "outputs": [],
   "source": [
    "import_per_country = 10_000\n",
    "\n",
    "import_wiki_data('en', 1,  import_per_country)\n",
    "import_wiki_data('de', 2,  import_per_country)\n",
    "import_wiki_data('fr', 3,  import_per_country)\n",
    "import_wiki_data('es', 4,  import_per_country)\n",
    "import_wiki_data('it', 5,  import_per_country)\n",
    "import_wiki_data('ja', 6,  import_per_country)\n",
    "import_wiki_data('ar', 7,  import_per_country)\n",
    "import_wiki_data('zh', 8,  import_per_country)\n",
    "import_wiki_data('ko', 9,  import_per_country)\n",
    "import_wiki_data('hi', 10, import_per_country)"
   ]
  },
  {
   "attachments": {},
   "cell_type": "markdown",
   "id": "21eb5e10",
   "metadata": {},
   "source": [
    "### Show number of imported items"
   ]
  },
  {
   "cell_type": "code",
   "execution_count": null,
   "id": "249c4367",
   "metadata": {},
   "outputs": [],
   "source": [
    "# Test that all data has loaded – get object count\n",
    "result = (\n",
    "    client.query.aggregate(\"Articles\")\n",
    "    .with_fields(\"meta { count }\")\n",
    "    .do()\n",
    ")\n",
    "print(\"Object count: \", result[\"data\"][\"Aggregate\"][\"Articles\"])"
   ]
  }
 ],
 "metadata": {
  "kernelspec": {
   "display_name": "Python 3 (ipykernel)",
   "language": "python",
   "name": "python3"
  },
  "language_info": {
   "codemirror_mode": {
    "name": "ipython",
    "version": 3
   },
   "file_extension": ".py",
   "mimetype": "text/x-python",
   "name": "python",
   "nbconvert_exporter": "python",
   "pygments_lexer": "ipython3",
   "version": "3.9.12"
  }
 },
 "nbformat": 4,
 "nbformat_minor": 5
}
