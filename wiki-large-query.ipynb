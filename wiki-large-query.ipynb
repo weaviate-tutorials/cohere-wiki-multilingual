{
 "cells": [
  {
   "attachments": {},
   "cell_type": "markdown",
   "id": "ae057476",
   "metadata": {},
   "source": [
    "# About this notebook\n",
    "\n",
    "Demonstrate:\n",
    "* Code example for Semantic Search \n",
    "* Code example for Generative Search\n",
    "\n",
    "See [readme.md](./readme.md) for configuration instructions."
   ]
  },
  {
   "cell_type": "code",
   "execution_count": null,
   "id": "204f9226",
   "metadata": {},
   "outputs": [],
   "source": [
    "!pip install weaviate-client -U"
   ]
  },
  {
   "attachments": {},
   "cell_type": "markdown",
   "id": "5da93764",
   "metadata": {},
   "source": [
    "## Query data"
   ]
  },
  {
   "cell_type": "code",
   "execution_count": null,
   "id": "b6bfb80e",
   "metadata": {},
   "outputs": [],
   "source": [
    "import os\n",
    "import weaviate\n",
    "\n",
    "auth_config = weaviate.AuthBearerToken(\n",
    "  access_token = os.getenv(\"COHERE_AUTH_READ\"),\n",
    "  expires_in=300, # in seconds, by default 60s\n",
    ")\n",
    "\n",
    "client = weaviate.Client(\n",
    "    url=\"https://cohere-demo.weaviate.network\",\n",
    "    auth_client_secret=auth_config,\n",
    "    additional_headers={\n",
    "        \"X-Cohere-Api-Key\": os.getenv(\"COHERE_API_KEY\"),\n",
    "    },\n",
    "    timeout_config = (20, 240),\n",
    ")\n",
    "client.is_ready()"
   ]
  },
  {
   "cell_type": "code",
   "execution_count": 169,
   "id": "a004d241",
   "metadata": {},
   "outputs": [],
   "source": [
    "def semantic_serch(query):\n",
    "    nearText = {\n",
    "        \"concepts\": [query]\n",
    "    }\n",
    "\n",
    "    properties = [\n",
    "        \"text\", \"title\", \"url\", \"views\",\n",
    "        \"_additional {distance}\"\n",
    "    ]\n",
    "\n",
    "    response = (\n",
    "        client.query\n",
    "        .get(\"Wikipedia\", properties)\n",
    "        .with_near_text(nearText)\n",
    "        # .with_where({\n",
    "        #     \"path\": [\"lang\"],\n",
    "        #     \"operator\": \"Equal\",\n",
    "        #     \"valueText\": \"en\"\n",
    "        # })\n",
    "        .with_limit(20)\n",
    "        .do()\n",
    "    )\n",
    "\n",
    "    return response['data']['Get']['Wikipedia']\n",
    "\n",
    "\n",
    "def print_result(result):\n",
    "    for item in result:\n",
    "        print(f\"\\033[95m{item['title']} ({item['views']}) {item['_additional']['distance']}\\033[0m\")\n",
    "        print(f\"\\033[4m{item['url']}\\033[0m\")\n",
    "        print(item['text'])\n",
    "        print()"
   ]
  },
  {
   "cell_type": "code",
   "execution_count": null,
   "id": "07dd0b3f",
   "metadata": {},
   "outputs": [],
   "source": [
    "# Pass the user query to Weaviate\n",
    "query_result = semantic_serch(\"సంగీత వాయిద్యాలు\")\n",
    "\n",
    "# Print out the result\n",
    "print_result(query_result)"
   ]
  },
  {
   "cell_type": "code",
   "execution_count": 157,
   "id": "ece96c93",
   "metadata": {},
   "outputs": [],
   "source": [
    "def generative_serch(query):\n",
    "\n",
    "    properties = [\n",
    "        \"text\", \"title\", \"url\", \"views\",\n",
    "        \"_additional {distance}\"\n",
    "    ]\n",
    "\n",
    "    response = (\n",
    "        client.query\n",
    "        .get('Wikipedia', properties)\n",
    "        .with_near_text({'concepts': [query]})\n",
    "        .with_limit(2)\n",
    "        .with_generate(single_prompt='write a poem based on: {text}')\n",
    "        .do()\n",
    "    )\n",
    "\n",
    "    return response['data']['Get']['Wikipedia']\n",
    "\n",
    "def print_gen_result(result):\n",
    "    for item in result:\n",
    "        print(f\"\\033[95m{item['title']} ({item['views']}) {item['_additional']['distance']}\\033[0m\")\n",
    "        print(f\"\\033[4m{item['_additional']['generate']['singleResult']}\\033[0m\")\n",
    "        print(f\"\\033[4m{item['url']}\\033[0m\")\n",
    "        print(item['text'])\n",
    "        print()"
   ]
  },
  {
   "cell_type": "code",
   "execution_count": null,
   "id": "603d2a96",
   "metadata": {},
   "outputs": [],
   "source": [
    "# Pass the user query to Weaviate\n",
    "query_result = generative_serch(\"how planes fly\")\n",
    "\n",
    "# Print out the result\n",
    "print(query_result)\n",
    "print_gen_result(query_result)"
   ]
  },
  {
   "cell_type": "code",
   "execution_count": null,
   "id": "4bdf05a8",
   "metadata": {},
   "outputs": [],
   "source": [
    "# Test that all data has loaded – get object count\n",
    "result = (\n",
    "    client.query.aggregate(\"Wikipedia\")\n",
    "    .with_meta_count()\n",
    "    .do()\n",
    ")\n",
    "print(\"Object count: \", result[\"data\"][\"Aggregate\"][\"Wikipedia\"])"
   ]
  },
  {
   "cell_type": "code",
   "execution_count": null,
   "id": "ebfa2043",
   "metadata": {},
   "outputs": [],
   "source": [
    "client.get_meta()"
   ]
  }
 ],
 "metadata": {
  "kernelspec": {
   "display_name": "Python 3",
   "language": "python",
   "name": "python3"
  },
  "language_info": {
   "codemirror_mode": {
    "name": "ipython",
    "version": 3
   },
   "file_extension": ".py",
   "mimetype": "text/x-python",
   "name": "python",
   "nbconvert_exporter": "python",
   "pygments_lexer": "ipython3",
   "version": "3.9.12"
  },
  "vscode": {
   "interpreter": {
    "hash": "40d3a090f54c6569ab1632332b64b2c03c39dcf918b08424e98f38b5ae0af88f"
   }
  }
 },
 "nbformat": 4,
 "nbformat_minor": 5
}
