{
 "cells": [
  {
   "cell_type": "code",
   "execution_count": null,
   "id": "204f9226",
   "metadata": {},
   "outputs": [],
   "source": [
    "!pip install weaviate-client -U"
   ]
  },
  {
   "attachments": {},
   "cell_type": "markdown",
   "id": "5da93764",
   "metadata": {},
   "source": [
    "## Query data"
   ]
  },
  {
   "cell_type": "code",
   "execution_count": 50,
   "id": "b6bfb80e",
   "metadata": {},
   "outputs": [
    {
     "data": {
      "text/plain": [
       "True"
      ]
     },
     "execution_count": 50,
     "metadata": {},
     "output_type": "execute_result"
    }
   ],
   "source": [
    "import os\n",
    "import weaviate\n",
    "\n",
    "auth_config = weaviate.AuthBearerToken(\n",
    "  access_token = os.getenv(\"COHERE_AUTH_READ\"),\n",
    "  expires_in=300, # in seconds, by default 60s\n",
    ")\n",
    "\n",
    "client = weaviate.Client(\n",
    "    url=\"https://cohere-demo.weaviate.network\",\n",
    "    auth_client_secret=auth_config,\n",
    "    additional_headers={\n",
    "        \"X-Cohere-Api-Key\": os.getenv(\"COHERE_API_KEY\"),\n",
    "        \"X-OpenAI-Api-Key\": os.getenv(\"OPENAI_API_KEY\"),\n",
    "    },\n",
    "    timeout_config = (20, 240),\n",
    ")\n",
    "client.is_ready()"
   ]
  },
  {
   "cell_type": "code",
   "execution_count": 7,
   "id": "a004d241",
   "metadata": {},
   "outputs": [],
   "source": [
    "def semantic_serch(query):\n",
    "    nearText = {\n",
    "        \"concepts\": [query]\n",
    "    }\n",
    "\n",
    "    properties = [\n",
    "        \"text\", \"title\", \"url\", \"views\",\n",
    "        \"_additional {distance}\"\n",
    "    ]\n",
    "\n",
    "    response = (\n",
    "        client.query\n",
    "        .get(\"Articles\", properties)\n",
    "        .with_near_text(nearText)\n",
    "        .with_limit(20)\n",
    "        .do()\n",
    "    )\n",
    "\n",
    "    return response['data']['Get']['Articles']\n",
    "\n",
    "\n",
    "def print_result(result):\n",
    "    for item in result:\n",
    "        print(f\"\\033[95m{item['title']} ({item['views']}) {item['_additional']['distance']}\\033[0m\")\n",
    "        print(f\"\\033[4m{item['url']}\\033[0m\")\n",
    "        print(item['text'])\n",
    "        print()"
   ]
  },
  {
   "cell_type": "code",
   "execution_count": 62,
   "id": "07dd0b3f",
   "metadata": {},
   "outputs": [
    {
     "name": "stdout",
     "output_type": "stream",
     "text": [
      "\u001b[95mInstrument de musique (800) -151.23499\u001b[0m\n",
      "\u001b[4mhttps://fr.wikipedia.org/wiki?curid=1521\u001b[0m\n",
      "L'ensemble des instruments utilisés pour une œuvre mais aussi, et surtout, dans une société donnée ou une époque est appelé « instrumentarium ». L'étude académique des instruments de musique est appelée organologie et prend le plus souvent ses sources dans l'ethnomusicologie.\n",
      "\n",
      "\u001b[95mInstrument de musique (800) -151.05759\u001b[0m\n",
      "\u001b[4mhttps://fr.wikipedia.org/wiki?curid=1521\u001b[0m\n",
      "Un instrument de musique est un objet pouvant produire un son contrôlé par un musicien — que cet objet soit conçu dans cet objectif, ou bien qu'il soit modifié ou écarté de son usage premier. La voix ou les mains, même si elles ne sont pas des objets à proprement parler, sont considérées comme des instruments de musique dès lors qu'elles participent à une œuvre musicale.\n",
      "\n",
      "\u001b[95mInstrumento musical (1000) -150.76285\u001b[0m\n",
      "\u001b[4mhttps://es.wikipedia.org/wiki?curid=1489\u001b[0m\n",
      "Un instrumento musical es un objeto compuesto por la combinación de uno o más sistemas resonantes y medios para su vibración, construido con el fin de producir sonido en uno o más tonos que puedan ser combinados por un intérprete para producir música. Al final, cualquier cosa que produzca sonido armónico puede servir de instrumento musical, pero la expresión se reserva, generalmente, a objetos que tienen ese propósito en específico.\n",
      "\n",
      "\u001b[95mInstrumento musical (1000) -150.66843\u001b[0m\n",
      "\u001b[4mhttps://es.wikipedia.org/wiki?curid=1489\u001b[0m\n",
      "A partir del año 1400, aproximadamente, el ritmo de desarrollo de los instrumentos musicales se incrementó en serio, ya que las composiciones exigían sonidos más dinámicos. También se empezaron a escribir libros sobre la creación, la interpretación y la catalogación de instrumentos musicales; el primer libro de este tipo fue el tratado de Sebastian Virdung de 1511 \"Musica getuscht und ausgezogen\" ('Música germanizada y abstraída'). La obra de Virdung destaca por ser especialmente minuciosa al incluir descripciones de instrumentos \"irregulares\" como los cuernos de cazador y los cencerros de vaca, aunque Virdung se muestra crítico con los mismos. Le siguieron otros libros, como el de Arnolt Schlick, \"Spiegel der Orgelmacher und Organisten\" ('Espejo de los organeros y organistas') al año siguiente, un tratado sobre la construcción y la interpretación de órganos. De los libros de instrucción y referencias publicados en la época del Renacimiento, uno destaca por su detallada descripción y representación de todos los instrumentos de viento y cuerda, incluyendo sus tamaños relativos. Este libro, el \"Syntagma musicum\" de Michael Praetorius, se considera actualmente una referencia autorizada de los instrumentos musicales del .\n",
      "\n",
      "\u001b[95mInstrumento musical (1000) -150.35333\u001b[0m\n",
      "\u001b[4mhttps://es.wikipedia.org/wiki?curid=1489\u001b[0m\n",
      "La música europea entre el 800 y el 1100 se volvió más sofisticada, requiriendo con mayor frecuencia instrumentos capaces de polifonía. El geógrafo persa del Ibn Khordadbeh mencionó en su discusión lexicográfica de los instrumentos musicales que, en el Imperio bizantino, los instrumentos típicos incluían el \"urghun\" (órgano), el \"shilyani\" (probablemente un tipo de arpa o lira), el \"salandj\" (probablemente una gaita) y la lyra. La lira bizantina, un arco instrumento de cuerda, es un ancestro de la mayoría de los instrumentos de arco europeos, incluido el violín.\n",
      "\n",
      "\u001b[95mInstrumento musical (1000) -150.28702\u001b[0m\n",
      "\u001b[4mhttps://es.wikipedia.org/wiki?curid=1489\u001b[0m\n",
      "Existen muchas divisiones alternativas y subdivisiones de instrumentos. Generalmente, al estudiar los instrumentos musicales es frecuente encontrarse con la clásica división de los instrumentos en cuatro familias: viento, cuerda, percusión y los instrumentos eléctricos (creados por el ser humano hace aproximadamente 80 años). Sin embargo, debido a que esta clasificación está orientada a los instrumentos de la orquesta sinfónica, adolece de ciertas restricciones y defectos. Debido a ello, algunos musicólogos sencillamente amplían esta clasificación añadiendo hasta tres categorías adicionales: voz, teclados y electrónicos. Sin embargo, en 1914 los músicos Curt Sachs y Erich Hornbostel idearon un nuevo método de clasificación que atendiendo a las propiedades físicas de cada instrumento, pretendía ser capaz de englobar a todos los existentes. Una tercera clasificación, muy seguida en el este de Asia, clasifica los instrumentos atendiendo a sus materiales de construcción: metal, madera, barro, cuero, entre otros.\n",
      "\n",
      "\u001b[95mInstrument de musique (800) -150.16531\u001b[0m\n",
      "\u001b[4mhttps://fr.wikipedia.org/wiki?curid=1521\u001b[0m\n",
      "Le Musée des Instruments de musique (MIM), créé à Bruxelles en 1877, réunit dans les locaux d'un superbe immeuble Art nouveau une collection de plus de instruments : instruments occidentaux mécaniques, électriques et électroniques, instruments traditionnels européens, instruments du monde.\n",
      "\n",
      "\u001b[95mInstrument de musique (800) -150.08612\u001b[0m\n",
      "\u001b[4mhttps://fr.wikipedia.org/wiki?curid=1521\u001b[0m\n",
      "N.B. Contrairement à ce que cette classification pourrait laisser penser, ce n'est pas la matière utilisée dans la facture instrumentale qui est déterminante, mais bien la manière de produire le son. Ainsi, s'il existe des flûtes et des clarinettes en métal et en bois, toutes font partie des « bois ». Le saxophone construit en cuivre est un « bois » car il est muni d'un bec à anche battante. Il existe également des « cuivres » fabriqués en bois, comme les cornets à bouquin et le serpent, et à l'origine, le cor est un olifant en corne ou fabriqué dans une défense d'éléphant.\n",
      "\n",
      "\u001b[95mStrumento musicale (500) -149.94902\u001b[0m\n",
      "\u001b[4mhttps://it.wikipedia.org/wiki?curid=3823\u001b[0m\n",
      "Uno strumento musicale, nel parlato anche solo strumento, è un oggetto costruito o modificato con lo scopo di produrre suoni organizzati rispondenti a esigenze culturali specifiche per la produzione della musica.\n",
      "\n",
      "\u001b[95mInstrumento musical (1000) -149.80013\u001b[0m\n",
      "\u001b[4mhttps://es.wikipedia.org/wiki?curid=1489\u001b[0m\n",
      "Son aquellos instrumentos en los que el sonido procede de un cuerpo sólido y es generado por vibración del instrumento mismo mediante percusión, frotación o pulsación, como en el caso de las claves, xilófono, campana.\n",
      "\n",
      "\u001b[95mRumänien (2000) -149.47935\u001b[0m\n",
      "\u001b[4mhttps://de.wikipedia.org/wiki?curid=4330\u001b[0m\n",
      "Traditionell häufig eingesetzte Instrumente sind Cymbal, Violine, Akkordeon, Bassgeige und Klarinette, technische Virtuosität, auch bei alltäglichen Darbietungen, sind keine Seltenheit.\n",
      "\n",
      "\u001b[95mInstrument de musique (800) -149.43896\u001b[0m\n",
      "\u001b[4mhttps://fr.wikipedia.org/wiki?curid=1521\u001b[0m\n",
      "Le Musikinstrumenten-Museum, musée des instruments de musique à Berlin ; il rassemble environ 3500 instruments.\n",
      "\n",
      "\u001b[95mCuivres (musique) (700) -149.4349\u001b[0m\n",
      "\u001b[4mhttps://fr.wikipedia.org/wiki?curid=18019\u001b[0m\n",
      "Un instrument naturel, ou d'ordonnance, est un instrument qui n'a aucun mécanisme pour modifier sa longueur, hormis pour l'accorder. Ils ne peuvent donc jouer que sur leur fréquence fondamentale et les harmoniques associées. Pour la plupart, la série disponible se commence au premier harmonique au-dessus de la fondamentale.\n",
      "\n",
      "\u001b[95mInstrumento musical (1000) -149.41129\u001b[0m\n",
      "\u001b[4mhttps://es.wikipedia.org/wiki?curid=1489\u001b[0m\n",
      "Se descubrieron evidencias arqueológicas de instrumentos musicales en las excavaciones del Cementerio Real en la ciudad Sumeria de Ur. Estos instrumentos, uno de los primeros conjuntos de instrumentos descubiertos hasta la fecha, incluyen nueve liras (Liras de Ur), dos arpas, una flauta doble de plata, un sistro y címbalos. Un conjunto de pipas de plata con sonido de lengüeta descubierto en Ur fue el probable predecesor de las gaitas modernas. Las pipas cilíndricas presentan tres orificios laterales que permitían a los jugadores producir una escala de tonos enteros. Estas excavaciones, llevadas a cabo por Leonard Woolley en la década de 1920, sacaron a la luz fragmentos de instrumentos no degradados y los huecos dejados por los segmentos degradados que, en conjunto, han servido para reconstruirlos. Las tumbas en las que se enterraron estos instrumentos han sido fechadas usando la técnica de carbono entre el 2600 y el 2500 a.C., proporcionando pruebas de que estos instrumentos se utilizaban en Sumeria en esta época.\n",
      "\n",
      "\u001b[95mमोहिनीअट्टम (400) -149.33853\u001b[0m\n",
      "\u001b[4mhttps://hi.wikipedia.org/wiki?curid=2384\u001b[0m\n",
      "मोहिनीअट्टम में आमतौर पर इस्तेमाल होने वाले संगीत उपकरण में मृदंगम या मधालम (बैरल ड्रम), इदक्का (ऑवर गिलास ड्रम), बांसुरी, वीणा एवं किज्हितलम शामिल हैं। रागों (राग) को सोपाना शैली में गाया जाता है, जो धीमी गति से मधुर शैली में गाया जाता है।\n",
      "\n",
      "\u001b[95mInstrumento musical (1000) -149.32892\u001b[0m\n",
      "\u001b[4mhttps://es.wikipedia.org/wiki?curid=1489\u001b[0m\n",
      "Algunos instrumentos también tuvieron que volverse más ruidosos para llenar salas más grandes y ser escuchados por encima de orquestas de tamaño considerable. Las flautas y los instrumentos de arco sufrieron muchas modificaciones y cambios de diseño -la mayoría de ellos infructuosos- en un esfuerzo por aumentar el volumen. Otros instrumentos se modificaron simplemente para que pudieran interpretar sus partes en las partituras. Las trompetas tenían tradicionalmente un rango \"defectuoso\": eran incapaces de producir ciertas notas con precisión. Nuevos instrumentos como el clarinete, el saxofón y la tuba se convirtieron en elementos fijos de las orquestas. Instrumentos como el clarinete también crecieron en \"familias\" enteras de instrumentos capaces de diferentes rangos: clarinetes pequeños, clarinetes normales, clarinetes bajos, y así sucesivamente.\n",
      "\n",
      "\u001b[95mInstrumento musical (1000) -149.14331\u001b[0m\n",
      "\u001b[4mhttps://es.wikipedia.org/wiki?curid=1489\u001b[0m\n",
      "A partir del , los compositores empezaron a escribir obras de mayor grado emocional. Consideraron que la polifonía se adaptaba mejor al estilo emocional que buscaban y empezaron a escribir partes musicales para instrumentos que complementaran la voz humana cantada. Como resultado, muchos instrumentos que eran incapaces de rangos y dinámicas más grandes, y por lo tanto se consideraban poco emocionales, cayeron en desgracia. Uno de estos instrumentos era la chirimía. Los instrumentos de arco como el violín, la viola, el barítono y varios laúdes dominaban la música popular. Sin embargo, a partir de alrededor de 1750, el laúd desapareció de las composiciones musicales en favor de la creciente popularidad de la guitarra. A medida que aumentaba la prevalencia de las orquestas de cuerda, se readmitieron instrumentos de viento como la flauta, el oboe y el fagot para contrarrestar la monotonía de escuchar sólo cuerdas.\n",
      "\n",
      "\u001b[95mStrumento musicale (500) -149.12848\u001b[0m\n",
      "\u001b[4mhttps://it.wikipedia.org/wiki?curid=3823\u001b[0m\n",
      "La classificazione degli strumenti musicali è una disciplina a sé stante, per la quale sono stati ideati vari sistemi negli anni. I criteri più comuni di classificazione sono l'estensione dello strumento, la sua grandezza, il materiale di cui è fatto o il modo in cui il suono è emesso, come nel più noto metodo accademico, la classificazione Hornbostel-Sachs. La scienza che studia gli strumenti musicali è denominata organologia. Può avvenire anche secondo criteri diversi, per esempio differenziando le caratteristiche comuni, o le tecniche di utilizzo, o il campo di applicazione, per origini geografiche\n",
      "\n",
      "\u001b[95mStrumento musicale (500) -149.1253\u001b[0m\n",
      "\u001b[4mhttps://it.wikipedia.org/wiki?curid=3823\u001b[0m\n",
      "Gli strumenti musicali possono esser classificati secondo vari criteri. Fra i più diffusi quello basato sull'uso che ne fa lo strumentista, molto diffuso e ripreso ampiamente nella struttura di un'orchestra, e quello basato sul metodo di produzione del suono, nella versione occidentale noto come sistema Hornbostel-Sachs, con un predecessore storico nell'India fra il 200 avanti e dopo Cristo (\"Nātyaśāstra/Bharata Muni\").\n",
      "\n",
      "\u001b[95mInstrument de musique (800) -149.10988\u001b[0m\n",
      "\u001b[4mhttps://fr.wikipedia.org/wiki?curid=1521\u001b[0m\n",
      "Les instruments de percussion — à hauteur déterminée ou non — englobent tout instrument par lequel un corps en frappe un autre. Cette catégorie d'instruments a été subdivisée par les théoriciens en membranophones et idiophones. Le développement de cette famille nombreuse au (plus de 500), particulièrement des instruments à claviers ou à lamelles, a imposé une nouvelle catégorisation autant pour les percussionnistes que pour les enseignants. À l'orchestre ou dans les classes de percussion, la distinction est faite entre :\n",
      "\n"
     ]
    }
   ],
   "source": [
    "# Pass the user query to Weaviate\n",
    "query_result = semantic_serch(\"instrumenty muzyczne\")\n",
    "\n",
    "# Print out the result\n",
    "print_result(query_result)"
   ]
  },
  {
   "cell_type": "code",
   "execution_count": 43,
   "id": "ece96c93",
   "metadata": {},
   "outputs": [],
   "source": [
    "def generative_serch(query):\n",
    "\n",
    "    properties = [\n",
    "        \"text\", \"title\", \"url\", \"views\",\n",
    "        \"_additional {distance}\"\n",
    "    ]\n",
    "\n",
    "    response = (\n",
    "        client.query\n",
    "        .get('Articles', properties)\n",
    "        .with_near_text({'concepts': [query]})\n",
    "        .with_limit(4)\n",
    "        .with_generate(single_prompt='summarize the following text in Dutch: {text}')\n",
    "        .do()\n",
    "    )\n",
    "\n",
    "    return response['data']['Get']['Wikipedia']\n",
    "\n",
    "\n",
    "def print_result(result):\n",
    "    for item in result:\n",
    "        print(f\"\\033[95m{item['title']} ({item['views']}) {item['_additional']['distance']}\\033[0m\")\n",
    "        print(f\"\\033[4m{item['_additional']['generate']['singleResult']}\\033[0m\")\n",
    "        print(f\"\\033[4m{item['url']}\\033[0m\")\n",
    "        print(item['text'])\n",
    "        print()"
   ]
  },
  {
   "cell_type": "code",
   "execution_count": 44,
   "id": "603d2a96",
   "metadata": {},
   "outputs": [
    {
     "name": "stdout",
     "output_type": "stream",
     "text": [
      "\u001b[95mEntertainment (3000) -148.43791\u001b[0m\n",
      "\u001b[4mIn de muzikale entertainment worden instrumenten gebruikt die ofwel alleen de menselijke stem zijn of alleen instrumentaal zijn, of een combinatie van beide. De uitvoerders kunnen solisten zijn of deel uitmaken van een kleine of grote groep die een individueel, passerend, klein of groot publiek vermaakt. Zingen wordt over het algemeen begeleid door instrumenten, hoewel sommige vormen, zoals a capella en boventoonzang, onbegeleid zijn. Moderne concerten maken vaak gebruik van verschillende speciale effecten en theatrics om optredens van zang en dans te begeleiden.\u001b[0m\n",
      "\u001b[4mhttps://en.wikipedia.org/wiki?curid=9262\u001b[0m\n",
      "The instruments used in musical entertainment are either solely the human voice (2, 6) or solely instrumental (1, 3) or some combination of the two (4, 5, 7, 8). Whether the performance is given by vocalists or instrumentalists, the performers may be soloists or part of a small or large group, in turn entertaining an audience that might be individual (10), passing by (3), small (1, 2) or large (6, 7, 8, 9). Singing is generally accompanied by instruments although some forms, notably a cappella and overtone singing, are unaccompanied. Modern concerts often use various special effects and other theatrics to accompany performances of singing and dancing (7).\n",
      "\n",
      "\u001b[95mRoman Empire (3000) -147.27959\u001b[0m\n",
      "\u001b[4mIn het Romeinse Rijk werden verschillende hout- en koperblazers, snaarinstrumenten zoals de cithara en percussie-instrumenten bespeeld. De cornu, een lang buisvormig metalen blaasinstrument dat om het lichaam van de muzikant gebogen was, werd gebruikt voor militaire signalen en op parade. Deze instrumenten werden gevonden in delen van het Rijk waar ze niet vandaan kwamen en geven aan dat muziek een aspect van de Romeinse cultuur was dat zich verspreidde over de provincies. Instrumenten worden veel afgebeeld in Romeinse kunst.\u001b[0m\n",
      "\u001b[4mhttps://en.wikipedia.org/wiki?curid=25507\u001b[0m\n",
      "Various woodwinds and \"brass\" instruments were played, as were stringed instruments such as the \"cithara\", and percussion. The \"cornu\", a long tubular metal wind instrument that curved around the musician's body, was used for military signals and on parade. These instruments are found in parts of the Empire where they did not originate and indicate that music was among the aspects of Roman culture that spread throughout the provinces. Instruments are widely depicted in Roman art.\n",
      "\n",
      "\u001b[95mMusic (3000) -147.14212\u001b[0m\n",
      "\u001b[4mDe fysieke kenmerken van geluid die de perceptie van timbre bepalen zijn onder andere het spectrum, de envelop en boventonen van een noot of muzikaal geluid. Bij elektrische instrumenten uit de 20e eeuw, zoals de elektrische gitaar, bas en piano, kan de uitvoerder ook de toon veranderen door equalizer- en toonregelingen op het instrument aan te passen en door elektronische effecten te gebruiken, zoals vervormingspedalen. De toon van het elektrische Hammond-orgel wordt geregeld door drawbars aan te passen.\u001b[0m\n",
      "\u001b[4mhttps://en.wikipedia.org/wiki?curid=18839\u001b[0m\n",
      "The physical characteristics of sound that determine the perception of timbre include the spectrum, envelope, and overtones of a note or musical sound. For electric instruments developed in the 20th century, such as electric guitar, electric bass and electric piano, the performer can also change the tone by adjusting equalizer controls, tone controls on the instrument, and by using electronic effects units such as distortion pedals. The tone of the electric Hammond organ is controlled by adjusting drawbars.\n",
      "\n",
      "\u001b[95mAncient Egypt (3000) -146.97197\u001b[0m\n",
      "\u001b[4mMuziek en dans waren populaire vormen van vermaak voor degenen die het zich konden veroorloven. Vroege instrumenten waren fluiten en harpen, terwijl instrumenten zoals trompetten, hobo's en pijpen later ontwikkeld werden en populair werden. In het Nieuwe Rijk speelden de Egyptenaren op bellen, cimbalen, tamboerijnen, drums en geïmporteerde luiten en lyres uit Azië. De sistrum was een ratelachtig muziekinstrument dat vooral belangrijk was bij religieuze ceremonies.\u001b[0m\n",
      "\u001b[4mhttps://en.wikipedia.org/wiki?curid=874\u001b[0m\n",
      "Music and dance were popular entertainments for those who could afford them. Early instruments included flutes and harps, while instruments similar to trumpets, oboes, and pipes developed later and became popular. In the New Kingdom, the Egyptians played on bells, cymbals, tambourines, drums, and imported lutes and lyres from Asia. The sistrum was a rattle-like musical instrument that was especially important in religious ceremonies.\n",
      "\n"
     ]
    }
   ],
   "source": [
    "# Pass the user query to Weaviate\n",
    "query_result = generative_serch(\"instrumenty muzyczne\")\n",
    "\n",
    "# Print out the result\n",
    "print_result(query_result)"
   ]
  },
  {
   "cell_type": "code",
   "execution_count": null,
   "id": "4bdf05a8",
   "metadata": {},
   "outputs": [],
   "source": [
    "# Test that all data has loaded – get object count\n",
    "result = (\n",
    "    client.query.aggregate(\"Articles\")\n",
    "    .with_near_vector()\n",
    "    # .with_where({\n",
    "    #     \"path\": [\"lang_id\"],\n",
    "    #     \"operator\": \"Equal\",\n",
    "    #     \"valueInt\": 6\n",
    "    # })\n",
    "    .with_meta_count()\n",
    "    .do()\n",
    ")\n",
    "print(\"Object count: \", result[\"data\"][\"Aggregate\"][\"Wikipedia\"])"
   ]
  }
 ],
 "metadata": {
  "kernelspec": {
   "display_name": "Python 3",
   "language": "python",
   "name": "python3"
  },
  "language_info": {
   "codemirror_mode": {
    "name": "ipython",
    "version": 3
   },
   "file_extension": ".py",
   "mimetype": "text/x-python",
   "name": "python",
   "nbconvert_exporter": "python",
   "pygments_lexer": "ipython3",
   "version": "3.9.12"
  },
  "vscode": {
   "interpreter": {
    "hash": "40d3a090f54c6569ab1632332b64b2c03c39dcf918b08424e98f38b5ae0af88f"
   }
  }
 },
 "nbformat": 4,
 "nbformat_minor": 5
}
